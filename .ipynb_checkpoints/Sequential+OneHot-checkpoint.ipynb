{
 "cells": [
  {
   "cell_type": "markdown",
   "metadata": {},
   "source": [
    "### Test ML Embeddings"
   ]
  },
  {
   "cell_type": "code",
   "execution_count": 1,
   "metadata": {},
   "outputs": [
    {
     "name": "stdout",
     "output_type": "stream",
     "text": [
      "size of train data :  4998\n"
     ]
    },
    {
     "name": "stderr",
     "output_type": "stream",
     "text": [
      "Using TensorFlow backend.\n"
     ]
    }
   ],
   "source": [
    "from parse import get_data\n",
    "import pandas as pd\n",
    "import numpy as np\n",
    "\n",
    "########################### EXTRACT DATA\n",
    "\n",
    "def convert_labels(l) :\n",
    "    if l == 'irr' :\n",
    "        return [1, 0, 0, 0]\n",
    "    elif l == 'neg' :\n",
    "        return [0, 1, 0, 0]\n",
    "    elif l == 'neu' :\n",
    "        return [0, 0, 1, 0]\n",
    "    else :\n",
    "        return [0, 0, 0, 1]\n",
    "    \n",
    "def decode_output(out_array) :\n",
    "    if out_array[0] == np.max(out_array) :\n",
    "        return \"irr\", np.max(out_array)\n",
    "    elif out_array[1] == np.max(out_array) :\n",
    "        return \"neg\", np.max(out_array)\n",
    "    elif out_array[2] == np.max(out_array) :\n",
    "        return \"neu\",np.max(out_array)\n",
    "    elif out_array[3] == np.max(out_array) :\n",
    "        return \"pos\",np.max(out_array)\n",
    "    else :\n",
    "        return \"err\",0\n",
    "\n",
    "# text, label = get_data(\"corpus_ready.data\")\n",
    "text, label = get_data(\"data/corpus.data\")\n",
    "labels = [\"irr\", \"neg\", \"neu\", \"pos\"]\n",
    "label_data = np.array([convert_labels(l) for l in label])\n",
    "print(\"size of train data : \", len(text))\n",
    "\n",
    "######################### VECTORIZE DATA\n",
    "\n",
    "from keras.preprocessing.text import one_hot\n",
    "from keras.preprocessing.sequence import pad_sequences\n",
    "from functools import reduce\n",
    "\n",
    "estimated_vocab_size = 2000\n",
    "encoded = [one_hot(t, estimated_vocab_size) for t in text]\n",
    "maxlength = np.max([len(x) for x in encoded])\n",
    "encoded = pad_sequences(encoded, maxlen=maxlength, padding='post')"
   ]
  },
  {
   "cell_type": "code",
   "execution_count": 3,
   "metadata": {},
   "outputs": [
    {
     "name": "stdout",
     "output_type": "stream",
     "text": [
      "train set length :  3998 , test set length :  1000\n"
     ]
    }
   ],
   "source": [
    "percentage_train = 0.8\n",
    "borne = int(percentage_train*len(text))\n",
    "X_train = encoded[:borne]\n",
    "Y_train = label_data[:borne]\n",
    "X_test = encoded[borne:]\n",
    "Y_test = label_data[borne:]\n",
    "print(\"train set length : \",len(X_train), \", test set length : \",len(X_test))"
   ]
  },
  {
   "cell_type": "code",
   "execution_count": 6,
   "metadata": {},
   "outputs": [
    {
     "name": "stdout",
     "output_type": "stream",
     "text": [
      "Epoch 1/50\n",
      "3998/3998 [==============================] - 0s 58us/step - loss: 0.5382 - acc: 0.7621\n",
      "Epoch 2/50\n",
      "3998/3998 [==============================] - 0s 29us/step - loss: 0.4485 - acc: 0.7943\n",
      "Epoch 3/50\n",
      "3998/3998 [==============================] - 0s 35us/step - loss: 0.4205 - acc: 0.8144\n",
      "Epoch 4/50\n",
      "3998/3998 [==============================] - 0s 33us/step - loss: 0.3912 - acc: 0.8309\n",
      "Epoch 5/50\n",
      "3998/3998 [==============================] - 0s 33us/step - loss: 0.3679 - acc: 0.8449\n",
      "Epoch 6/50\n",
      "3998/3998 [==============================] - 0s 31us/step - loss: 0.3480 - acc: 0.8542\n",
      "Epoch 7/50\n",
      "3998/3998 [==============================] - 0s 29us/step - loss: 0.3295 - acc: 0.8649\n",
      "Epoch 8/50\n",
      "3998/3998 [==============================] - 0s 33us/step - loss: 0.3120 - acc: 0.8741\n",
      "Epoch 9/50\n",
      "3998/3998 [==============================] - 0s 32us/step - loss: 0.2951 - acc: 0.8810\n",
      "Epoch 10/50\n",
      "3998/3998 [==============================] - 0s 32us/step - loss: 0.2787 - acc: 0.8912\n",
      "Epoch 11/50\n",
      "3998/3998 [==============================] - 0s 31us/step - loss: 0.2635 - acc: 0.8973\n",
      "Epoch 12/50\n",
      "3998/3998 [==============================] - 0s 32us/step - loss: 0.2485 - acc: 0.9054\n",
      "Epoch 13/50\n",
      "3998/3998 [==============================] - 0s 31us/step - loss: 0.2344 - acc: 0.9123\n",
      "Epoch 14/50\n",
      "3998/3998 [==============================] - 0s 30us/step - loss: 0.2214 - acc: 0.9185\n",
      "Epoch 15/50\n",
      "3998/3998 [==============================] - 0s 35us/step - loss: 0.2088 - acc: 0.9247\n",
      "Epoch 16/50\n",
      "3998/3998 [==============================] - 0s 32us/step - loss: 0.1969 - acc: 0.9304\n",
      "Epoch 17/50\n",
      "3998/3998 [==============================] - 0s 31us/step - loss: 0.1859 - acc: 0.9346\n",
      "Epoch 18/50\n",
      "3998/3998 [==============================] - 0s 33us/step - loss: 0.1756 - acc: 0.9395\n",
      "Epoch 19/50\n",
      "3998/3998 [==============================] - 0s 32us/step - loss: 0.1659 - acc: 0.9435\n",
      "Epoch 20/50\n",
      "3998/3998 [==============================] - 0s 33us/step - loss: 0.1565 - acc: 0.9500\n",
      "Epoch 21/50\n",
      "3998/3998 [==============================] - 0s 31us/step - loss: 0.1481 - acc: 0.9537\n",
      "Epoch 22/50\n",
      "3998/3998 [==============================] - 0s 33us/step - loss: 0.1402 - acc: 0.9570\n",
      "Epoch 23/50\n",
      "3998/3998 [==============================] - 0s 31us/step - loss: 0.1326 - acc: 0.9597\n",
      "Epoch 24/50\n",
      "3998/3998 [==============================] - 0s 32us/step - loss: 0.1258 - acc: 0.9625\n",
      "Epoch 25/50\n",
      "3998/3998 [==============================] - 0s 32us/step - loss: 0.1191 - acc: 0.9654\n",
      "Epoch 26/50\n",
      "3998/3998 [==============================] - 0s 33us/step - loss: 0.1130 - acc: 0.9681\n",
      "Epoch 27/50\n",
      "3998/3998 [==============================] - 0s 32us/step - loss: 0.1072 - acc: 0.9704\n",
      "Epoch 28/50\n",
      "3998/3998 [==============================] - 0s 32us/step - loss: 0.1018 - acc: 0.9723\n",
      "Epoch 29/50\n",
      "3998/3998 [==============================] - 0s 33us/step - loss: 0.0968 - acc: 0.9740\n",
      "Epoch 30/50\n",
      "3998/3998 [==============================] - 0s 37us/step - loss: 0.0922 - acc: 0.9755\n",
      "Epoch 31/50\n",
      "3998/3998 [==============================] - 0s 32us/step - loss: 0.0876 - acc: 0.9769\n",
      "Epoch 32/50\n",
      "3998/3998 [==============================] - 0s 32us/step - loss: 0.0834 - acc: 0.9790\n",
      "Epoch 33/50\n",
      "3998/3998 [==============================] - 0s 32us/step - loss: 0.0796 - acc: 0.9806\n",
      "Epoch 34/50\n",
      "3998/3998 [==============================] - 0s 32us/step - loss: 0.0760 - acc: 0.9813\n",
      "Epoch 35/50\n",
      "3998/3998 [==============================] - 0s 32us/step - loss: 0.0727 - acc: 0.9826\n",
      "Epoch 36/50\n",
      "3998/3998 [==============================] - 0s 34us/step - loss: 0.0694 - acc: 0.9836\n",
      "Epoch 37/50\n",
      "3998/3998 [==============================] - 0s 33us/step - loss: 0.0663 - acc: 0.9844\n",
      "Epoch 38/50\n",
      "3998/3998 [==============================] - 0s 31us/step - loss: 0.0636 - acc: 0.9849\n",
      "Epoch 39/50\n",
      "3998/3998 [==============================] - 0s 33us/step - loss: 0.0609 - acc: 0.9854\n",
      "Epoch 40/50\n",
      "3998/3998 [==============================] - 0s 33us/step - loss: 0.0585 - acc: 0.9865\n",
      "Epoch 41/50\n",
      "3998/3998 [==============================] - 0s 31us/step - loss: 0.0560 - acc: 0.9866\n",
      "Epoch 42/50\n",
      "3998/3998 [==============================] - 0s 31us/step - loss: 0.0537 - acc: 0.9877\n",
      "Epoch 43/50\n",
      "3998/3998 [==============================] - 0s 33us/step - loss: 0.0515 - acc: 0.9877\n",
      "Epoch 44/50\n",
      "3998/3998 [==============================] - 0s 33us/step - loss: 0.0494 - acc: 0.9880\n",
      "Epoch 45/50\n",
      "3998/3998 [==============================] - 0s 33us/step - loss: 0.0477 - acc: 0.9884\n",
      "Epoch 46/50\n",
      "3998/3998 [==============================] - 0s 33us/step - loss: 0.0458 - acc: 0.9889\n",
      "Epoch 47/50\n",
      "3998/3998 [==============================] - 0s 33us/step - loss: 0.0442 - acc: 0.9893\n",
      "Epoch 48/50\n",
      "3998/3998 [==============================] - 0s 31us/step - loss: 0.0426 - acc: 0.9894\n",
      "Epoch 49/50\n",
      "3998/3998 [==============================] - 0s 37us/step - loss: 0.0410 - acc: 0.9900\n",
      "Epoch 50/50\n",
      "3998/3998 [==============================] - 0s 36us/step - loss: 0.0398 - acc: 0.9904\n"
     ]
    },
    {
     "data": {
      "text/plain": [
       "<keras.callbacks.History at 0x7f9b945bf048>"
      ]
     },
     "execution_count": 6,
     "metadata": {},
     "output_type": "execute_result"
    }
   ],
   "source": [
    "from keras.models import Sequential\n",
    "from keras.layers import Dense, Flatten\n",
    "from keras.layers.embeddings import Embedding\n",
    "\n",
    "# define the model\n",
    "model = Sequential()\n",
    "model.add(Embedding(input_dim=estimated_vocab_size, output_dim=8, input_length=maxlength))\n",
    "model.add(Flatten())\n",
    "model.add(Dense(4, activation='sigmoid'))\n",
    "\n",
    "# compile the model\n",
    "\n",
    "model.compile(optimizer='adam', loss='binary_crossentropy', metrics=['acc'])\n",
    "# print(model.summary())\n",
    "batch = 50\n",
    "model.fit(X_train, Y_train, epochs=80, verbose=1)"
   ]
  },
  {
   "cell_type": "code",
   "execution_count": 7,
   "metadata": {},
   "outputs": [
    {
     "name": "stdout",
     "output_type": "stream",
     "text": [
      "0.7875\n"
     ]
    }
   ],
   "source": [
    "loss, accuracy = model.evaluate(X_test, Y_test, verbose=0)\n",
    "# loss, accuracy = model.evaluate(X_train, Y_train)\n",
    "print(accuracy)"
   ]
  },
  {
   "cell_type": "code",
   "execution_count": 10,
   "metadata": {},
   "outputs": [
    {
     "name": "stdout",
     "output_type": "stream",
     "text": [
      "<class 'numpy.ndarray'>\n",
      "[[1547  558  681 1873  558 1827    0    0    0    0    0    0    0    0\n",
      "     0    0    0    0    0    0    0    0    0    0    0    0    0    0\n",
      "     0    0    0    0    0    0    0    0    0    0    0    0    0    0\n",
      "     0    0    0    0    0    0    0    0    0    0    0    0    0    0\n",
      "     0    0    0    0    0    0]]\n"
     ]
    },
    {
     "data": {
      "text/plain": [
       "('neu', 0.48220602)"
      ]
     },
     "execution_count": 10,
     "metadata": {},
     "output_type": "execute_result"
    }
   ],
   "source": [
    "test = \"J'aime la glace à la banane\"\n",
    "test_oh = [one_hot(test, estimated_vocab_size)]\n",
    "test_oh = pad_sequences(test_oh, maxlen=maxlength, padding='post')\n",
    "print(type(test_oh))\n",
    "print(test_oh)\n",
    "out = list(model.predict(test_oh)[0])\n",
    "decode_output(out)\n",
    "# print(\"tweet is evaluated \" + out[0] + \" at \" + str(out[1]) + \"%\")"
   ]
  },
  {
   "cell_type": "code",
   "execution_count": null,
   "metadata": {},
   "outputs": [],
   "source": []
  }
 ],
 "metadata": {
  "kernelspec": {
   "display_name": "env",
   "language": "python",
   "name": "env"
  },
  "language_info": {
   "codemirror_mode": {
    "name": "ipython",
    "version": 3
   },
   "file_extension": ".py",
   "mimetype": "text/x-python",
   "name": "python",
   "nbconvert_exporter": "python",
   "pygments_lexer": "ipython3",
   "version": "3.6.7"
  }
 },
 "nbformat": 4,
 "nbformat_minor": 2
}
