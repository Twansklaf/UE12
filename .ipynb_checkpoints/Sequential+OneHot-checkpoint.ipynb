{
 "cells": [
  {
   "cell_type": "markdown",
   "metadata": {},
   "source": [
    "### Test ML Embeddings"
   ]
  },
  {
   "cell_type": "code",
   "execution_count": 1,
   "metadata": {},
   "outputs": [
    {
     "name": "stdout",
     "output_type": "stream",
     "text": [
      "size of train data :  3309\n"
     ]
    },
    {
     "name": "stderr",
     "output_type": "stream",
     "text": [
      "Using TensorFlow backend.\n"
     ]
    }
   ],
   "source": [
    "from parse import get_data\n",
    "import pandas as pd\n",
    "import numpy as np\n",
    "\n",
    "########################### EXTRACT DATA\n",
    "\n",
    "def convert_labels(l) :\n",
    "    if l == 'irr' :\n",
    "        return [1, 0, 0, 0]\n",
    "    elif l == 'neg' :\n",
    "        return [0, 1, 0, 0]\n",
    "    elif l == 'neu' :\n",
    "        return [0, 0, 1, 0]\n",
    "    else :\n",
    "        return [0, 0, 0, 1]\n",
    "    \n",
    "def decode_output(out_array) :\n",
    "    if out_array[0] == np.max(out_array) :\n",
    "        return \"irr\", np.max(out_array)\n",
    "    elif out_array[1] == np.max(out_array) :\n",
    "        return \"neg\", np.max(out_array)\n",
    "    elif out_array[2] == np.max(out_array) :\n",
    "        return \"neu\",np.max(out_array)\n",
    "    elif out_array[3] == np.max(out_array) :\n",
    "        return \"pos\",np.max(out_array)\n",
    "    else :\n",
    "        return \"err\",0\n",
    "\n",
    "text, label = get_data(\"corpus_ready.data\")\n",
    "labels = [\"irr\", \"neg\", \"neu\", \"pos\"]\n",
    "label_data = np.array([convert_labels(l) for l in label])\n",
    "print(\"size of train data : \", len(text))\n",
    "\n",
    "######################### VECTORIZE DATA\n",
    "\n",
    "from keras.preprocessing.text import one_hot\n",
    "from keras.preprocessing.sequence import pad_sequences\n",
    "from functools import reduce\n",
    "\n",
    "estimated_vocab_size = 2000\n",
    "encoded = [one_hot(t, estimated_vocab_size) for t in text]\n",
    "maxlength = np.max([len(x) for x in encoded])\n",
    "encoded = pad_sequences(encoded, maxlen=maxlength, padding='post')"
   ]
  },
  {
   "cell_type": "code",
   "execution_count": 2,
   "metadata": {},
   "outputs": [],
   "source": [
    "percentage_train = 0.8\n",
    "borne = int(percentage_train*len(text))\n",
    "X_train = encoded[:borne]\n",
    "Y_train = label_data[:borne]\n",
    "X_test = encoded[borne:]\n",
    "Y_test = label_data[borne:]"
   ]
  },
  {
   "cell_type": "code",
   "execution_count": 3,
   "metadata": {},
   "outputs": [
    {
     "name": "stdout",
     "output_type": "stream",
     "text": [
      "Epoch 1/50\n",
      "3309/3309 [==============================] - 0s 61us/step - loss: 0.5419 - acc: 0.7495\n",
      "Epoch 2/50\n",
      "3309/3309 [==============================] - 0s 33us/step - loss: 0.4574 - acc: 0.7851\n",
      "Epoch 3/50\n",
      "3309/3309 [==============================] - 0s 35us/step - loss: 0.4355 - acc: 0.8053\n",
      "Epoch 4/50\n",
      "3309/3309 [==============================] - 0s 33us/step - loss: 0.4091 - acc: 0.8257\n",
      "Epoch 5/50\n",
      "3309/3309 [==============================] - 0s 33us/step - loss: 0.3848 - acc: 0.8416\n",
      "Epoch 6/50\n",
      "3309/3309 [==============================] - 0s 30us/step - loss: 0.3638 - acc: 0.8521\n",
      "Epoch 7/50\n",
      "3309/3309 [==============================] - 0s 31us/step - loss: 0.3449 - acc: 0.8619\n",
      "Epoch 8/50\n",
      "3309/3309 [==============================] - 0s 33us/step - loss: 0.3271 - acc: 0.8719\n",
      "Epoch 9/50\n",
      "3309/3309 [==============================] - 0s 34us/step - loss: 0.3096 - acc: 0.8810\n",
      "Epoch 10/50\n",
      "3309/3309 [==============================] - 0s 40us/step - loss: 0.2926 - acc: 0.8868\n",
      "Epoch 11/50\n",
      "3309/3309 [==============================] - 0s 32us/step - loss: 0.2768 - acc: 0.8941\n",
      "Epoch 12/50\n",
      "3309/3309 [==============================] - 0s 35us/step - loss: 0.2615 - acc: 0.9025\n",
      "Epoch 13/50\n",
      "3309/3309 [==============================] - 0s 39us/step - loss: 0.2469 - acc: 0.9085\n",
      "Epoch 14/50\n",
      "3309/3309 [==============================] - 0s 32us/step - loss: 0.2331 - acc: 0.9152\n",
      "Epoch 15/50\n",
      "3309/3309 [==============================] - 0s 34us/step - loss: 0.2204 - acc: 0.9217\n",
      "Epoch 16/50\n",
      "3309/3309 [==============================] - 0s 36us/step - loss: 0.2080 - acc: 0.9288\n",
      "Epoch 17/50\n",
      "3309/3309 [==============================] - 0s 31us/step - loss: 0.1964 - acc: 0.9325\n",
      "Epoch 18/50\n",
      "3309/3309 [==============================] - 0s 30us/step - loss: 0.1860 - acc: 0.9378\n",
      "Epoch 19/50\n",
      "3309/3309 [==============================] - 0s 31us/step - loss: 0.1759 - acc: 0.9417\n",
      "Epoch 20/50\n",
      "3309/3309 [==============================] - 0s 33us/step - loss: 0.1663 - acc: 0.9464\n",
      "Epoch 21/50\n",
      "3309/3309 [==============================] - 0s 34us/step - loss: 0.1575 - acc: 0.9506\n",
      "Epoch 22/50\n",
      "3309/3309 [==============================] - 0s 34us/step - loss: 0.1492 - acc: 0.9547\n",
      "Epoch 23/50\n",
      "3309/3309 [==============================] - 0s 34us/step - loss: 0.1412 - acc: 0.9573\n",
      "Epoch 24/50\n",
      "3309/3309 [==============================] - 0s 35us/step - loss: 0.1339 - acc: 0.9604\n",
      "Epoch 25/50\n",
      "3309/3309 [==============================] - 0s 37us/step - loss: 0.1270 - acc: 0.9627\n",
      "Epoch 26/50\n",
      "3309/3309 [==============================] - 0s 32us/step - loss: 0.1206 - acc: 0.9657\n",
      "Epoch 27/50\n",
      "3309/3309 [==============================] - 0s 37us/step - loss: 0.1147 - acc: 0.9674\n",
      "Epoch 28/50\n",
      "3309/3309 [==============================] - 0s 54us/step - loss: 0.1089 - acc: 0.9695\n",
      "Epoch 29/50\n",
      "3309/3309 [==============================] - 0s 45us/step - loss: 0.1036 - acc: 0.9711\n",
      "Epoch 30/50\n",
      "3309/3309 [==============================] - 0s 37us/step - loss: 0.0985 - acc: 0.9730\n",
      "Epoch 31/50\n",
      "3309/3309 [==============================] - 0s 34us/step - loss: 0.0939 - acc: 0.9747\n",
      "Epoch 32/50\n",
      "3309/3309 [==============================] - 0s 35us/step - loss: 0.0893 - acc: 0.9776\n",
      "Epoch 33/50\n",
      "3309/3309 [==============================] - 0s 36us/step - loss: 0.0853 - acc: 0.9796\n",
      "Epoch 34/50\n",
      "3309/3309 [==============================] - 0s 35us/step - loss: 0.0813 - acc: 0.9799\n",
      "Epoch 35/50\n",
      "3309/3309 [==============================] - 0s 33us/step - loss: 0.0776 - acc: 0.9817\n",
      "Epoch 36/50\n",
      "3309/3309 [==============================] - 0s 42us/step - loss: 0.0743 - acc: 0.9825\n",
      "Epoch 37/50\n",
      "3309/3309 [==============================] - 0s 61us/step - loss: 0.0711 - acc: 0.9832\n",
      "Epoch 38/50\n",
      "3309/3309 [==============================] - 0s 61us/step - loss: 0.0682 - acc: 0.9838\n",
      "Epoch 39/50\n",
      "3309/3309 [==============================] - 0s 55us/step - loss: 0.0651 - acc: 0.9847\n",
      "Epoch 40/50\n",
      "3309/3309 [==============================] - 0s 35us/step - loss: 0.0623 - acc: 0.9850\n",
      "Epoch 41/50\n",
      "3309/3309 [==============================] - 0s 40us/step - loss: 0.0598 - acc: 0.9858\n",
      "Epoch 42/50\n",
      "3309/3309 [==============================] - 0s 36us/step - loss: 0.0574 - acc: 0.9860\n",
      "Epoch 43/50\n",
      "3309/3309 [==============================] - 0s 46us/step - loss: 0.0552 - acc: 0.9866\n",
      "Epoch 44/50\n",
      "3309/3309 [==============================] - 0s 66us/step - loss: 0.0530 - acc: 0.9872\n",
      "Epoch 45/50\n",
      "3309/3309 [==============================] - 0s 56us/step - loss: 0.0510 - acc: 0.9872\n",
      "Epoch 46/50\n",
      "3309/3309 [==============================] - 0s 38us/step - loss: 0.0491 - acc: 0.9881\n",
      "Epoch 47/50\n",
      "3309/3309 [==============================] - 0s 34us/step - loss: 0.0473 - acc: 0.9882\n",
      "Epoch 48/50\n",
      "3309/3309 [==============================] - 0s 35us/step - loss: 0.0455 - acc: 0.9884\n",
      "Epoch 49/50\n",
      "3309/3309 [==============================] - 0s 35us/step - loss: 0.0440 - acc: 0.9884\n",
      "Epoch 50/50\n",
      "3309/3309 [==============================] - 0s 49us/step - loss: 0.0424 - acc: 0.9893\n"
     ]
    },
    {
     "data": {
      "text/plain": [
       "<keras.callbacks.History at 0x7f9c2c2016d8>"
      ]
     },
     "execution_count": 3,
     "metadata": {},
     "output_type": "execute_result"
    }
   ],
   "source": [
    "from keras.models import Sequential\n",
    "from keras.layers import Dense, Flatten\n",
    "from keras.layers.embeddings import Embedding\n",
    "\n",
    "# define the model\n",
    "model = Sequential()\n",
    "model.add(Embedding(input_dim=estimated_vocab_size, output_dim=8, input_length=maxlength))\n",
    "model.add(Flatten())\n",
    "model.add(Dense(4, activation='sigmoid'))\n",
    "\n",
    "# compile the model\n",
    "\n",
    "model.compile(optimizer='adam', loss='binary_crossentropy', metrics=['acc'])\n",
    "# print(model.summary())\n",
    "batch = 100\n",
    "model.fit(X_train, Y_train, epochs=50, verbose=1)"
   ]
  },
  {
   "cell_type": "code",
   "execution_count": 4,
   "metadata": {},
   "outputs": [
    {
     "name": "stdout",
     "output_type": "stream",
     "text": [
      "3309/3309 [==============================] - 0s 35us/step\n",
      "0.9899516470232699\n"
     ]
    }
   ],
   "source": [
    "# loss, accuracy = model.evaluate(X_test, Y_test, verbose=0)\n",
    "loss, accuracy = model.evaluate(X_train, Y_train)\n",
    "print(accuracy)"
   ]
  },
  {
   "cell_type": "code",
   "execution_count": 20,
   "metadata": {},
   "outputs": [
    {
     "name": "stdout",
     "output_type": "stream",
     "text": [
      "<class 'numpy.ndarray'>\n",
      "[[1639 1579 1582 1304  802  470  230 1316 1799    0    0    0    0    0\n",
      "     0    0    0    0    0    0    0    0    0    0    0    0    0    0\n",
      "     0    0    0    0    0    0    0    0    0    0    0    0    0    0\n",
      "     0    0    0    0    0    0    0    0    0    0    0    0    0    0\n",
      "     0    0    0    0    0    0]]\n"
     ]
    },
    {
     "data": {
      "text/plain": [
       "('neg', 0.98400843)"
      ]
     },
     "execution_count": 20,
     "metadata": {},
     "output_type": "execute_result"
    }
   ],
   "source": [
    "test = \"Macron sous merde de mes boules suce ma France\"\n",
    "test_oh = [one_hot(test, estimated_vocab_size)]\n",
    "test_oh = pad_sequences(test_oh, maxlen=maxlength, padding='post')\n",
    "print(type(test_oh))\n",
    "print(test_oh)\n",
    "out = list(model.predict(test_oh)[0])\n",
    "decode_output(out)\n",
    "# print(\"tweet is evaluated \" + out[0] + \" at \" + str(out[1]) + \"%\")"
   ]
  },
  {
   "cell_type": "code",
   "execution_count": null,
   "metadata": {},
   "outputs": [],
   "source": []
  }
 ],
 "metadata": {
  "kernelspec": {
   "display_name": "env",
   "language": "python",
   "name": "env"
  },
  "language_info": {
   "codemirror_mode": {
    "name": "ipython",
    "version": 3
   },
   "file_extension": ".py",
   "mimetype": "text/x-python",
   "name": "python",
   "nbconvert_exporter": "python",
   "pygments_lexer": "ipython3",
   "version": "3.6.7"
  }
 },
 "nbformat": 4,
 "nbformat_minor": 2
}
