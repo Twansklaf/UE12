{
 "cells": [
  {
   "cell_type": "code",
   "execution_count": 21,
   "metadata": {},
   "outputs": [],
   "source": [
    "from parse import get_data\n",
    "import pandas as pd\n",
    "from keras.preprocessing.text import Tokenizer\n",
    "from keras.preprocessing.sequence import pad_sequences\n",
    "from keras.models import Sequential"
   ]
  },
  {
   "cell_type": "code",
   "execution_count": 22,
   "metadata": {},
   "outputs": [
    {
     "name": "stdout",
     "output_type": "stream",
     "text": [
      "4998\n"
     ]
    }
   ],
   "source": [
    "train, labels = get_data(\"data/corpus.data\")\n",
    "nb_of_entries = len(train)\n",
    "print(nb_of_entries)\n",
    "\n",
    "df = pd.DataFrame({'Text' : train, 'Tag': labels})\n",
    "\n",
    "max_features = 100000\n",
    "tk = Tokenizer(num_words=max_features, split=' ')\n",
    "tk.fit_on_texts(df['Text'].values)\n",
    "X = tk.texts_to_sequences(df['Text'].values)\n",
    "# print(X)\n",
    "X = pad_sequences(X)\n",
    "Y = pd.get_dummies(df['Tag']).values\n",
    "maxlength = X.shape[1]\n",
    "# print(type(maxlength))\n"
   ]
  },
  {
   "cell_type": "code",
   "execution_count": 25,
   "metadata": {},
   "outputs": [
    {
     "name": "stdout",
     "output_type": "stream",
     "text": [
      "train set length :  3998 , test set length :  1000\n"
     ]
    }
   ],
   "source": [
    "percentage_train = 0.8\n",
    "borne = int(percentage_train*len(train))\n",
    "X_train = X[:borne]\n",
    "Y_train = Y[:borne]\n",
    "X_test = X[borne:]\n",
    "Y_test = Y[borne:]\n",
    "print(\"train set length : \",len(X_train), \", test set length : \",len(X_test))"
   ]
  },
  {
   "cell_type": "code",
   "execution_count": 26,
   "metadata": {},
   "outputs": [
    {
     "name": "stdout",
     "output_type": "stream",
     "text": [
      "Epoch 1/80\n",
      "3998/3998 [==============================] - 2s 460us/step - loss: 0.5338 - acc: 0.7584\n",
      "Epoch 2/80\n",
      "3998/3998 [==============================] - 2s 399us/step - loss: 0.4510 - acc: 0.7925\n",
      "Epoch 3/80\n",
      "3998/3998 [==============================] - 2s 400us/step - loss: 0.4220 - acc: 0.8148\n",
      "Epoch 4/80\n",
      "3998/3998 [==============================] - 2s 403us/step - loss: 0.3824 - acc: 0.8406\n",
      "Epoch 5/80\n",
      "3998/3998 [==============================] - 2s 397us/step - loss: 0.3406 - acc: 0.8672\n",
      "Epoch 6/80\n",
      "3998/3998 [==============================] - 2s 408us/step - loss: 0.3011 - acc: 0.8940\n",
      "Epoch 7/80\n",
      "3998/3998 [==============================] - 2s 416us/step - loss: 0.2643 - acc: 0.9141\n",
      "Epoch 8/80\n",
      "3998/3998 [==============================] - 2s 403us/step - loss: 0.2314 - acc: 0.9293\n",
      "Epoch 9/80\n",
      "3998/3998 [==============================] - 2s 414us/step - loss: 0.2023 - acc: 0.9376\n",
      "Epoch 10/80\n",
      "3998/3998 [==============================] - 2s 415us/step - loss: 0.1770 - acc: 0.9457\n",
      "Epoch 11/80\n",
      "3998/3998 [==============================] - 2s 401us/step - loss: 0.1554 - acc: 0.9532\n",
      "Epoch 12/80\n",
      "3998/3998 [==============================] - 2s 436us/step - loss: 0.1367 - acc: 0.9607\n",
      "Epoch 13/80\n",
      "3998/3998 [==============================] - 2s 403us/step - loss: 0.1207 - acc: 0.9665\n",
      "Epoch 14/80\n",
      "3998/3998 [==============================] - 2s 407us/step - loss: 0.1069 - acc: 0.9717\n",
      "Epoch 15/80\n",
      "3998/3998 [==============================] - 2s 415us/step - loss: 0.0952 - acc: 0.9769\n",
      "Epoch 16/80\n",
      "3998/3998 [==============================] - 2s 412us/step - loss: 0.0852 - acc: 0.9792\n",
      "Epoch 17/80\n",
      "3998/3998 [==============================] - 2s 409us/step - loss: 0.0765 - acc: 0.9814\n",
      "Epoch 18/80\n",
      "3998/3998 [==============================] - 2s 419us/step - loss: 0.0692 - acc: 0.9839\n",
      "Epoch 19/80\n",
      "3998/3998 [==============================] - 2s 472us/step - loss: 0.0627 - acc: 0.9856\n",
      "Epoch 20/80\n",
      "3998/3998 [==============================] - 2s 436us/step - loss: 0.0572 - acc: 0.9866\n",
      "Epoch 21/80\n",
      "3998/3998 [==============================] - 2s 465us/step - loss: 0.0523 - acc: 0.9885\n",
      "Epoch 22/80\n",
      "3998/3998 [==============================] - 1s 362us/step - loss: 0.0481 - acc: 0.9890\n",
      "Epoch 23/80\n",
      "3998/3998 [==============================] - 1s 354us/step - loss: 0.0444 - acc: 0.9899\n",
      "Epoch 24/80\n",
      "3998/3998 [==============================] - 1s 336us/step - loss: 0.0412 - acc: 0.9903\n",
      "Epoch 25/80\n",
      "3998/3998 [==============================] - 1s 357us/step - loss: 0.0382 - acc: 0.9908\n",
      "Epoch 26/80\n",
      "3998/3998 [==============================] - 2s 525us/step - loss: 0.0357 - acc: 0.9910\n",
      "Epoch 27/80\n",
      "3998/3998 [==============================] - 2s 410us/step - loss: 0.0336 - acc: 0.9914\n",
      "Epoch 28/80\n",
      "3998/3998 [==============================] - 2s 553us/step - loss: 0.0316 - acc: 0.9923\n",
      "Epoch 29/80\n",
      "3998/3998 [==============================] - 2s 420us/step - loss: 0.0296 - acc: 0.9924\n",
      "Epoch 30/80\n",
      "3998/3998 [==============================] - 2s 581us/step - loss: 0.0280 - acc: 0.9929\n",
      "Epoch 31/80\n",
      "3998/3998 [==============================] - 2s 408us/step - loss: 0.0265 - acc: 0.9929\n",
      "Epoch 32/80\n",
      "3998/3998 [==============================] - 1s 332us/step - loss: 0.0251 - acc: 0.9931\n",
      "Epoch 33/80\n",
      "3998/3998 [==============================] - 2s 448us/step - loss: 0.0240 - acc: 0.9933\n",
      "Epoch 34/80\n",
      "3998/3998 [==============================] - 2s 517us/step - loss: 0.0228 - acc: 0.9936\n",
      "Epoch 35/80\n",
      "3998/3998 [==============================] - 1s 374us/step - loss: 0.0218 - acc: 0.9937\n",
      "Epoch 36/80\n",
      "3998/3998 [==============================] - 1s 331us/step - loss: 0.0209 - acc: 0.9933\n",
      "Epoch 37/80\n",
      "3998/3998 [==============================] - 1s 331us/step - loss: 0.0202 - acc: 0.9939\n",
      "Epoch 38/80\n",
      "3998/3998 [==============================] - 1s 333us/step - loss: 0.0193 - acc: 0.9941\n",
      "Epoch 39/80\n",
      "3998/3998 [==============================] - 1s 329us/step - loss: 0.0186 - acc: 0.9946\n",
      "Epoch 40/80\n",
      "3998/3998 [==============================] - 1s 337us/step - loss: 0.0180 - acc: 0.9946\n",
      "Epoch 41/80\n",
      "3998/3998 [==============================] - 1s 354us/step - loss: 0.0173 - acc: 0.9944\n",
      "Epoch 42/80\n",
      "3998/3998 [==============================] - 1s 331us/step - loss: 0.0168 - acc: 0.9948\n",
      "Epoch 43/80\n",
      "3998/3998 [==============================] - 2s 378us/step - loss: 0.0162 - acc: 0.9949\n",
      "Epoch 44/80\n",
      "3998/3998 [==============================] - 2s 405us/step - loss: 0.0159 - acc: 0.9946\n",
      "Epoch 45/80\n",
      "3998/3998 [==============================] - 2s 402us/step - loss: 0.0155 - acc: 0.9950\n",
      "Epoch 46/80\n",
      "3998/3998 [==============================] - 2s 391us/step - loss: 0.0150 - acc: 0.9952\n",
      "Epoch 47/80\n",
      "3998/3998 [==============================] - 2s 379us/step - loss: 0.0147 - acc: 0.9948\n",
      "Epoch 48/80\n",
      "3998/3998 [==============================] - 2s 573us/step - loss: 0.0144 - acc: 0.9949\n",
      "Epoch 49/80\n",
      "3998/3998 [==============================] - 2s 442us/step - loss: 0.0141 - acc: 0.9947\n",
      "Epoch 50/80\n",
      "3998/3998 [==============================] - 2s 463us/step - loss: 0.0137 - acc: 0.9949\n",
      "Epoch 51/80\n",
      "3998/3998 [==============================] - 2s 431us/step - loss: 0.0134 - acc: 0.9949\n",
      "Epoch 52/80\n",
      "3998/3998 [==============================] - 2s 446us/step - loss: 0.0132 - acc: 0.9951\n",
      "Epoch 53/80\n",
      "3998/3998 [==============================] - 2s 443us/step - loss: 0.0128 - acc: 0.9949\n",
      "Epoch 54/80\n",
      "3998/3998 [==============================] - 2s 433us/step - loss: 0.0128 - acc: 0.9949\n",
      "Epoch 55/80\n",
      "3998/3998 [==============================] - 2s 426us/step - loss: 0.0123 - acc: 0.9951\n",
      "Epoch 56/80\n",
      "3998/3998 [==============================] - 2s 450us/step - loss: 0.0121 - acc: 0.9951\n",
      "Epoch 57/80\n",
      "1600/3998 [===========>..................] - ETA: 1s - loss: 0.0101 - acc: 0.9955"
     ]
    },
    {
     "ename": "KeyboardInterrupt",
     "evalue": "",
     "output_type": "error",
     "traceback": [
      "\u001b[0;31m---------------------------------------------------------------------------\u001b[0m",
      "\u001b[0;31mKeyboardInterrupt\u001b[0m                         Traceback (most recent call last)",
      "\u001b[0;32m<ipython-input-26-ae849e5c2155>\u001b[0m in \u001b[0;36m<module>\u001b[0;34m\u001b[0m\n\u001b[1;32m     14\u001b[0m \u001b[0;31m# print(model.summary())\u001b[0m\u001b[0;34m\u001b[0m\u001b[0;34m\u001b[0m\u001b[0;34m\u001b[0m\u001b[0m\n\u001b[1;32m     15\u001b[0m \u001b[0mbatch\u001b[0m \u001b[0;34m=\u001b[0m \u001b[0;36m50\u001b[0m\u001b[0;34m\u001b[0m\u001b[0;34m\u001b[0m\u001b[0m\n\u001b[0;32m---> 16\u001b[0;31m \u001b[0mmodel\u001b[0m\u001b[0;34m.\u001b[0m\u001b[0mfit\u001b[0m\u001b[0;34m(\u001b[0m\u001b[0mX_train\u001b[0m\u001b[0;34m,\u001b[0m \u001b[0mY_train\u001b[0m\u001b[0;34m,\u001b[0m \u001b[0mepochs\u001b[0m\u001b[0;34m=\u001b[0m\u001b[0;36m80\u001b[0m\u001b[0;34m,\u001b[0m \u001b[0mverbose\u001b[0m\u001b[0;34m=\u001b[0m\u001b[0;36m1\u001b[0m\u001b[0;34m)\u001b[0m\u001b[0;34m\u001b[0m\u001b[0;34m\u001b[0m\u001b[0m\n\u001b[0m",
      "\u001b[0;32m~/M2/UE6 - TAL/TP4/env/lib/python3.6/site-packages/keras/engine/training.py\u001b[0m in \u001b[0;36mfit\u001b[0;34m(self, x, y, batch_size, epochs, verbose, callbacks, validation_split, validation_data, shuffle, class_weight, sample_weight, initial_epoch, steps_per_epoch, validation_steps, **kwargs)\u001b[0m\n\u001b[1;32m   1037\u001b[0m                                         \u001b[0minitial_epoch\u001b[0m\u001b[0;34m=\u001b[0m\u001b[0minitial_epoch\u001b[0m\u001b[0;34m,\u001b[0m\u001b[0;34m\u001b[0m\u001b[0;34m\u001b[0m\u001b[0m\n\u001b[1;32m   1038\u001b[0m                                         \u001b[0msteps_per_epoch\u001b[0m\u001b[0;34m=\u001b[0m\u001b[0msteps_per_epoch\u001b[0m\u001b[0;34m,\u001b[0m\u001b[0;34m\u001b[0m\u001b[0;34m\u001b[0m\u001b[0m\n\u001b[0;32m-> 1039\u001b[0;31m                                         validation_steps=validation_steps)\n\u001b[0m\u001b[1;32m   1040\u001b[0m \u001b[0;34m\u001b[0m\u001b[0m\n\u001b[1;32m   1041\u001b[0m     def evaluate(self, x=None, y=None,\n",
      "\u001b[0;32m~/M2/UE6 - TAL/TP4/env/lib/python3.6/site-packages/keras/engine/training_arrays.py\u001b[0m in \u001b[0;36mfit_loop\u001b[0;34m(model, f, ins, out_labels, batch_size, epochs, verbose, callbacks, val_f, val_ins, shuffle, callback_metrics, initial_epoch, steps_per_epoch, validation_steps)\u001b[0m\n\u001b[1;32m    197\u001b[0m                     \u001b[0mins_batch\u001b[0m\u001b[0;34m[\u001b[0m\u001b[0mi\u001b[0m\u001b[0;34m]\u001b[0m \u001b[0;34m=\u001b[0m \u001b[0mins_batch\u001b[0m\u001b[0;34m[\u001b[0m\u001b[0mi\u001b[0m\u001b[0;34m]\u001b[0m\u001b[0;34m.\u001b[0m\u001b[0mtoarray\u001b[0m\u001b[0;34m(\u001b[0m\u001b[0;34m)\u001b[0m\u001b[0;34m\u001b[0m\u001b[0;34m\u001b[0m\u001b[0m\n\u001b[1;32m    198\u001b[0m \u001b[0;34m\u001b[0m\u001b[0m\n\u001b[0;32m--> 199\u001b[0;31m                 \u001b[0mouts\u001b[0m \u001b[0;34m=\u001b[0m \u001b[0mf\u001b[0m\u001b[0;34m(\u001b[0m\u001b[0mins_batch\u001b[0m\u001b[0;34m)\u001b[0m\u001b[0;34m\u001b[0m\u001b[0;34m\u001b[0m\u001b[0m\n\u001b[0m\u001b[1;32m    200\u001b[0m                 \u001b[0mouts\u001b[0m \u001b[0;34m=\u001b[0m \u001b[0mto_list\u001b[0m\u001b[0;34m(\u001b[0m\u001b[0mouts\u001b[0m\u001b[0;34m)\u001b[0m\u001b[0;34m\u001b[0m\u001b[0;34m\u001b[0m\u001b[0m\n\u001b[1;32m    201\u001b[0m                 \u001b[0;32mfor\u001b[0m \u001b[0ml\u001b[0m\u001b[0;34m,\u001b[0m \u001b[0mo\u001b[0m \u001b[0;32min\u001b[0m \u001b[0mzip\u001b[0m\u001b[0;34m(\u001b[0m\u001b[0mout_labels\u001b[0m\u001b[0;34m,\u001b[0m \u001b[0mouts\u001b[0m\u001b[0;34m)\u001b[0m\u001b[0;34m:\u001b[0m\u001b[0;34m\u001b[0m\u001b[0;34m\u001b[0m\u001b[0m\n",
      "\u001b[0;32m~/M2/UE6 - TAL/TP4/env/lib/python3.6/site-packages/keras/backend/tensorflow_backend.py\u001b[0m in \u001b[0;36m__call__\u001b[0;34m(self, inputs)\u001b[0m\n\u001b[1;32m   2713\u001b[0m                 \u001b[0;32mreturn\u001b[0m \u001b[0mself\u001b[0m\u001b[0;34m.\u001b[0m\u001b[0m_legacy_call\u001b[0m\u001b[0;34m(\u001b[0m\u001b[0minputs\u001b[0m\u001b[0;34m)\u001b[0m\u001b[0;34m\u001b[0m\u001b[0;34m\u001b[0m\u001b[0m\n\u001b[1;32m   2714\u001b[0m \u001b[0;34m\u001b[0m\u001b[0m\n\u001b[0;32m-> 2715\u001b[0;31m             \u001b[0;32mreturn\u001b[0m \u001b[0mself\u001b[0m\u001b[0;34m.\u001b[0m\u001b[0m_call\u001b[0m\u001b[0;34m(\u001b[0m\u001b[0minputs\u001b[0m\u001b[0;34m)\u001b[0m\u001b[0;34m\u001b[0m\u001b[0;34m\u001b[0m\u001b[0m\n\u001b[0m\u001b[1;32m   2716\u001b[0m         \u001b[0;32melse\u001b[0m\u001b[0;34m:\u001b[0m\u001b[0;34m\u001b[0m\u001b[0;34m\u001b[0m\u001b[0m\n\u001b[1;32m   2717\u001b[0m             \u001b[0;32mif\u001b[0m \u001b[0mpy_any\u001b[0m\u001b[0;34m(\u001b[0m\u001b[0mis_tensor\u001b[0m\u001b[0;34m(\u001b[0m\u001b[0mx\u001b[0m\u001b[0;34m)\u001b[0m \u001b[0;32mfor\u001b[0m \u001b[0mx\u001b[0m \u001b[0;32min\u001b[0m \u001b[0minputs\u001b[0m\u001b[0;34m)\u001b[0m\u001b[0;34m:\u001b[0m\u001b[0;34m\u001b[0m\u001b[0;34m\u001b[0m\u001b[0m\n",
      "\u001b[0;32m~/M2/UE6 - TAL/TP4/env/lib/python3.6/site-packages/keras/backend/tensorflow_backend.py\u001b[0m in \u001b[0;36m_call\u001b[0;34m(self, inputs)\u001b[0m\n\u001b[1;32m   2673\u001b[0m             \u001b[0mfetched\u001b[0m \u001b[0;34m=\u001b[0m \u001b[0mself\u001b[0m\u001b[0;34m.\u001b[0m\u001b[0m_callable_fn\u001b[0m\u001b[0;34m(\u001b[0m\u001b[0;34m*\u001b[0m\u001b[0marray_vals\u001b[0m\u001b[0;34m,\u001b[0m \u001b[0mrun_metadata\u001b[0m\u001b[0;34m=\u001b[0m\u001b[0mself\u001b[0m\u001b[0;34m.\u001b[0m\u001b[0mrun_metadata\u001b[0m\u001b[0;34m)\u001b[0m\u001b[0;34m\u001b[0m\u001b[0;34m\u001b[0m\u001b[0m\n\u001b[1;32m   2674\u001b[0m         \u001b[0;32melse\u001b[0m\u001b[0;34m:\u001b[0m\u001b[0;34m\u001b[0m\u001b[0;34m\u001b[0m\u001b[0m\n\u001b[0;32m-> 2675\u001b[0;31m             \u001b[0mfetched\u001b[0m \u001b[0;34m=\u001b[0m \u001b[0mself\u001b[0m\u001b[0;34m.\u001b[0m\u001b[0m_callable_fn\u001b[0m\u001b[0;34m(\u001b[0m\u001b[0;34m*\u001b[0m\u001b[0marray_vals\u001b[0m\u001b[0;34m)\u001b[0m\u001b[0;34m\u001b[0m\u001b[0;34m\u001b[0m\u001b[0m\n\u001b[0m\u001b[1;32m   2676\u001b[0m         \u001b[0;32mreturn\u001b[0m \u001b[0mfetched\u001b[0m\u001b[0;34m[\u001b[0m\u001b[0;34m:\u001b[0m\u001b[0mlen\u001b[0m\u001b[0;34m(\u001b[0m\u001b[0mself\u001b[0m\u001b[0;34m.\u001b[0m\u001b[0moutputs\u001b[0m\u001b[0;34m)\u001b[0m\u001b[0;34m]\u001b[0m\u001b[0;34m\u001b[0m\u001b[0;34m\u001b[0m\u001b[0m\n\u001b[1;32m   2677\u001b[0m \u001b[0;34m\u001b[0m\u001b[0m\n",
      "\u001b[0;32m~/M2/UE6 - TAL/TP4/env/lib/python3.6/site-packages/tensorflow/python/client/session.py\u001b[0m in \u001b[0;36m__call__\u001b[0;34m(self, *args, **kwargs)\u001b[0m\n\u001b[1;32m   1437\u001b[0m           ret = tf_session.TF_SessionRunCallable(\n\u001b[1;32m   1438\u001b[0m               \u001b[0mself\u001b[0m\u001b[0;34m.\u001b[0m\u001b[0m_session\u001b[0m\u001b[0;34m.\u001b[0m\u001b[0m_session\u001b[0m\u001b[0;34m,\u001b[0m \u001b[0mself\u001b[0m\u001b[0;34m.\u001b[0m\u001b[0m_handle\u001b[0m\u001b[0;34m,\u001b[0m \u001b[0margs\u001b[0m\u001b[0;34m,\u001b[0m \u001b[0mstatus\u001b[0m\u001b[0;34m,\u001b[0m\u001b[0;34m\u001b[0m\u001b[0;34m\u001b[0m\u001b[0m\n\u001b[0;32m-> 1439\u001b[0;31m               run_metadata_ptr)\n\u001b[0m\u001b[1;32m   1440\u001b[0m         \u001b[0;32mif\u001b[0m \u001b[0mrun_metadata\u001b[0m\u001b[0;34m:\u001b[0m\u001b[0;34m\u001b[0m\u001b[0;34m\u001b[0m\u001b[0m\n\u001b[1;32m   1441\u001b[0m           \u001b[0mproto_data\u001b[0m \u001b[0;34m=\u001b[0m \u001b[0mtf_session\u001b[0m\u001b[0;34m.\u001b[0m\u001b[0mTF_GetBuffer\u001b[0m\u001b[0;34m(\u001b[0m\u001b[0mrun_metadata_ptr\u001b[0m\u001b[0;34m)\u001b[0m\u001b[0;34m\u001b[0m\u001b[0;34m\u001b[0m\u001b[0m\n",
      "\u001b[0;31mKeyboardInterrupt\u001b[0m: "
     ]
    }
   ],
   "source": [
    "from keras.models import Sequential\n",
    "from keras.layers import Dense, Flatten\n",
    "from keras.layers.embeddings import Embedding\n",
    "\n",
    "# define the model\n",
    "model = Sequential()\n",
    "model.add(Embedding(input_dim=max_features, output_dim=8, input_length=maxlength))\n",
    "model.add(Flatten())\n",
    "model.add(Dense(4, activation='sigmoid'))\n",
    "\n",
    "# compile the model\n",
    "\n",
    "model.compile(optimizer='adam', loss='binary_crossentropy', metrics=['acc'])\n",
    "# print(model.summary())\n",
    "batch = 150\n",
    "model.fit(X_train, Y_train, epochs=50, verbose=1)"
   ]
  },
  {
   "cell_type": "code",
   "execution_count": null,
   "metadata": {},
   "outputs": [],
   "source": []
  },
  {
   "cell_type": "code",
   "execution_count": null,
   "metadata": {},
   "outputs": [],
   "source": []
  },
  {
   "cell_type": "code",
   "execution_count": null,
   "metadata": {},
   "outputs": [],
   "source": []
  },
  {
   "cell_type": "code",
   "execution_count": null,
   "metadata": {},
   "outputs": [],
   "source": []
  },
  {
   "cell_type": "code",
   "execution_count": null,
   "metadata": {},
   "outputs": [],
   "source": []
  },
  {
   "cell_type": "code",
   "execution_count": null,
   "metadata": {},
   "outputs": [],
   "source": []
  }
 ],
 "metadata": {
  "kernelspec": {
   "display_name": "env",
   "language": "python",
   "name": "env"
  },
  "language_info": {
   "codemirror_mode": {
    "name": "ipython",
    "version": 3
   },
   "file_extension": ".py",
   "mimetype": "text/x-python",
   "name": "python",
   "nbconvert_exporter": "python",
   "pygments_lexer": "ipython3",
   "version": "3.6.7"
  }
 },
 "nbformat": 4,
 "nbformat_minor": 2
}
