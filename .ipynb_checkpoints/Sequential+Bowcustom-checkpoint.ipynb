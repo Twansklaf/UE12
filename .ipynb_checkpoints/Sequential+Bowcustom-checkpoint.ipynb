{
 "cells": [
  {
   "cell_type": "markdown",
   "metadata": {},
   "source": [
    "### Test sentiment ML 2"
   ]
  },
  {
   "cell_type": "code",
   "execution_count": 1,
   "metadata": {},
   "outputs": [],
   "source": [
    "from parse import *\n",
    "from word_tools import *\n"
   ]
  },
  {
   "cell_type": "code",
   "execution_count": 2,
   "metadata": {},
   "outputs": [
    {
     "name": "stdout",
     "output_type": "stream",
     "text": [
      "['contre', 'être', 'européens', 'ont', 'tous', 'grand', 'même', 'politique', 'bien', 'français', 'président', 'lui', 'ils', 'faire', 'tout', 'comme', 'sont', 'raffarin', 'gilets', 'jaunes', 'renaissance', 'tribune', 'http', 'nous', 'fait', 'mais', 'via', 'européennes', 'france', 'par', 'son', 'plus', 'européenne', 'avec', 'sur', 'aux', 'europe', 'vous', 'dans', 'emmanuel', 'qui', 'pas', 'que', 'une', 'des', 'pour', 'est', 'les', '', 'macron']\n"
     ]
    }
   ],
   "source": [
    "from word_tools import make_bagofwords\n",
    "\n",
    "nb_words = 10000\n",
    "\n",
    "bow = make_bagofwords(\"data/corpus.data\", 10000)\n",
    "print(bow[-50:])"
   ]
  },
  {
   "cell_type": "code",
   "execution_count": 3,
   "metadata": {},
   "outputs": [],
   "source": [
    "from word_tools import vectorize_tweets\n",
    "vect = vectorize_tweets(\"data/corpus.data\", bow)"
   ]
  },
  {
   "cell_type": "code",
   "execution_count": 4,
   "metadata": {},
   "outputs": [
    {
     "name": "stdout",
     "output_type": "stream",
     "text": [
      "(49,)\n"
     ]
    }
   ],
   "source": [
    "import numpy as np\n",
    "keys = [k for k in vect]\n",
    "\n",
    "input_len = np.shape(vect[keys[0]]['vectorized'])[0]\n",
    "\n",
    "print(np.shape(vect[keys[0]]['vectorized']))"
   ]
  },
  {
   "cell_type": "code",
   "execution_count": 5,
   "metadata": {},
   "outputs": [],
   "source": [
    "\n",
    "def extract_data(vectsdict):\n",
    "    import numpy as np\n",
    "    vects = []\n",
    "    labels = []\n",
    "    \n",
    "    for key in vectsdict :\n",
    "        if not np.all(vectsdict[key]['label'] == 0) :\n",
    "            vects.append(vectsdict[key]['vectorized'])\n",
    "            labels.append(vectsdict[key]['label'])\n",
    "    return np.array(vects), np.array(labels)\n",
    "\n",
    "def decode_output(out_array) :\n",
    "    if out_array[0] == np.max(out_array) :\n",
    "        return \"irr\", np.max(out_array)\n",
    "    elif out_array[1] == np.max(out_array) :\n",
    "        return \"neg\", np.max(out_array)\n",
    "    elif out_array[2] == np.max(out_array) :\n",
    "        return \"neu\",np.max(out_array)\n",
    "    elif out_array[3] == np.max(out_array) :\n",
    "        return \"pos\",np.max(out_array)\n",
    "    else :\n",
    "        return \"err\",0\n",
    "    \n",
    "data, labels = extract_data(vect)\n",
    "\n",
    "\n",
    "percentage_train = 0.8\n",
    "borne = int(percentage_train*len(data))\n",
    "X_train = data[:borne]\n",
    "Y_train = labels[:borne]\n",
    "X_test = data[borne:]\n",
    "Y_test = labels[borne:]\n",
    "\n"
   ]
  },
  {
   "cell_type": "code",
   "execution_count": 6,
   "metadata": {},
   "outputs": [
    {
     "name": "stderr",
     "output_type": "stream",
     "text": [
      "Using TensorFlow backend.\n"
     ]
    },
    {
     "name": "stdout",
     "output_type": "stream",
     "text": [
      "Epoch 1/70\n",
      "3998/3998 [==============================] - 0s 49us/step - loss: 0.6495 - acc: 0.7074\n",
      "Epoch 2/70\n",
      "3998/3998 [==============================] - 0s 21us/step - loss: 0.5094 - acc: 0.7682\n",
      "Epoch 3/70\n",
      "3998/3998 [==============================] - 0s 21us/step - loss: 0.4559 - acc: 0.7817\n",
      "Epoch 4/70\n",
      "3998/3998 [==============================] - 0s 21us/step - loss: 0.4400 - acc: 0.7974\n",
      "Epoch 5/70\n",
      "3998/3998 [==============================] - 0s 23us/step - loss: 0.4208 - acc: 0.8175\n",
      "Epoch 6/70\n",
      "3998/3998 [==============================] - 0s 21us/step - loss: 0.3993 - acc: 0.8325\n",
      "Epoch 7/70\n",
      "3998/3998 [==============================] - 0s 19us/step - loss: 0.3782 - acc: 0.8430\n",
      "Epoch 8/70\n",
      "3998/3998 [==============================] - 0s 22us/step - loss: 0.3588 - acc: 0.8552\n",
      "Epoch 9/70\n",
      "3998/3998 [==============================] - 0s 21us/step - loss: 0.3408 - acc: 0.8651\n",
      "Epoch 10/70\n",
      "3998/3998 [==============================] - 0s 22us/step - loss: 0.3235 - acc: 0.8737\n",
      "Epoch 11/70\n",
      "3998/3998 [==============================] - 0s 23us/step - loss: 0.3067 - acc: 0.8835\n",
      "Epoch 12/70\n",
      "3998/3998 [==============================] - 0s 23us/step - loss: 0.2905 - acc: 0.8920\n",
      "Epoch 13/70\n",
      "3998/3998 [==============================] - 0s 22us/step - loss: 0.2748 - acc: 0.9011\n",
      "Epoch 14/70\n",
      "3998/3998 [==============================] - 0s 49us/step - loss: 0.2597 - acc: 0.9081\n",
      "Epoch 15/70\n",
      "3998/3998 [==============================] - 0s 49us/step - loss: 0.2455 - acc: 0.9146\n",
      "Epoch 16/70\n",
      "3998/3998 [==============================] - 0s 26us/step - loss: 0.2320 - acc: 0.9197\n",
      "Epoch 17/70\n",
      "3998/3998 [==============================] - 0s 22us/step - loss: 0.2189 - acc: 0.9260\n",
      "Epoch 18/70\n",
      "3998/3998 [==============================] - 0s 22us/step - loss: 0.2069 - acc: 0.9323\n",
      "Epoch 19/70\n",
      "3998/3998 [==============================] - 0s 20us/step - loss: 0.1955 - acc: 0.9368\n",
      "Epoch 20/70\n",
      "3998/3998 [==============================] - 0s 23us/step - loss: 0.1850 - acc: 0.9410\n",
      "Epoch 21/70\n",
      "3998/3998 [==============================] - 0s 23us/step - loss: 0.1750 - acc: 0.9453\n",
      "Epoch 22/70\n",
      "3998/3998 [==============================] - 0s 24us/step - loss: 0.1657 - acc: 0.9494\n",
      "Epoch 23/70\n",
      "3998/3998 [==============================] - 0s 22us/step - loss: 0.1570 - acc: 0.9525\n",
      "Epoch 24/70\n",
      "3998/3998 [==============================] - 0s 23us/step - loss: 0.1491 - acc: 0.9553\n",
      "Epoch 25/70\n",
      "3998/3998 [==============================] - 0s 22us/step - loss: 0.1415 - acc: 0.9582\n",
      "Epoch 26/70\n",
      "3998/3998 [==============================] - 0s 23us/step - loss: 0.1347 - acc: 0.9602\n",
      "Epoch 27/70\n",
      "3998/3998 [==============================] - 0s 23us/step - loss: 0.1281 - acc: 0.9627\n",
      "Epoch 28/70\n",
      "3998/3998 [==============================] - 0s 23us/step - loss: 0.1221 - acc: 0.9654\n",
      "Epoch 29/70\n",
      "3998/3998 [==============================] - 0s 24us/step - loss: 0.1164 - acc: 0.9673\n",
      "Epoch 30/70\n",
      "3998/3998 [==============================] - 0s 24us/step - loss: 0.1111 - acc: 0.9686\n",
      "Epoch 31/70\n",
      "3998/3998 [==============================] - 0s 19us/step - loss: 0.1062 - acc: 0.9700\n",
      "Epoch 32/70\n",
      "3998/3998 [==============================] - 0s 23us/step - loss: 0.1017 - acc: 0.9716\n",
      "Epoch 33/70\n",
      "3998/3998 [==============================] - 0s 25us/step - loss: 0.0973 - acc: 0.9734\n",
      "Epoch 34/70\n",
      "3998/3998 [==============================] - 0s 19us/step - loss: 0.0932 - acc: 0.9745\n",
      "Epoch 35/70\n",
      "3998/3998 [==============================] - 0s 23us/step - loss: 0.0897 - acc: 0.9764\n",
      "Epoch 36/70\n",
      "3998/3998 [==============================] - 0s 21us/step - loss: 0.0861 - acc: 0.9777\n",
      "Epoch 37/70\n",
      "3998/3998 [==============================] - 0s 25us/step - loss: 0.0827 - acc: 0.9784\n",
      "Epoch 38/70\n",
      "3998/3998 [==============================] - 0s 22us/step - loss: 0.0796 - acc: 0.9797\n",
      "Epoch 39/70\n",
      "3998/3998 [==============================] - 0s 23us/step - loss: 0.0767 - acc: 0.9797\n",
      "Epoch 40/70\n",
      "3998/3998 [==============================] - 0s 23us/step - loss: 0.0739 - acc: 0.9808\n",
      "Epoch 41/70\n",
      "3998/3998 [==============================] - 0s 25us/step - loss: 0.0714 - acc: 0.9811\n",
      "Epoch 42/70\n",
      "3998/3998 [==============================] - 0s 41us/step - loss: 0.0690 - acc: 0.9816\n",
      "Epoch 43/70\n",
      "3998/3998 [==============================] - 0s 34us/step - loss: 0.0668 - acc: 0.9822\n",
      "Epoch 44/70\n",
      "3998/3998 [==============================] - 0s 22us/step - loss: 0.0646 - acc: 0.9827\n",
      "Epoch 45/70\n",
      "3998/3998 [==============================] - 0s 25us/step - loss: 0.0626 - acc: 0.9834\n",
      "Epoch 46/70\n",
      "3998/3998 [==============================] - 0s 35us/step - loss: 0.0606 - acc: 0.9842\n",
      "Epoch 47/70\n",
      "3998/3998 [==============================] - 0s 39us/step - loss: 0.0587 - acc: 0.9843\n",
      "Epoch 48/70\n",
      "3998/3998 [==============================] - 0s 23us/step - loss: 0.0570 - acc: 0.9849\n",
      "Epoch 49/70\n",
      "3998/3998 [==============================] - 0s 22us/step - loss: 0.0557 - acc: 0.9851\n",
      "Epoch 50/70\n",
      "3998/3998 [==============================] - 0s 23us/step - loss: 0.0540 - acc: 0.9856\n",
      "Epoch 51/70\n",
      "3998/3998 [==============================] - 0s 24us/step - loss: 0.0524 - acc: 0.9856\n",
      "Epoch 52/70\n",
      "3998/3998 [==============================] - 0s 29us/step - loss: 0.0511 - acc: 0.9856\n",
      "Epoch 53/70\n",
      "3998/3998 [==============================] - 0s 22us/step - loss: 0.0496 - acc: 0.9866\n",
      "Epoch 54/70\n",
      "3998/3998 [==============================] - 0s 25us/step - loss: 0.0485 - acc: 0.9865\n",
      "Epoch 55/70\n",
      "3998/3998 [==============================] - 0s 24us/step - loss: 0.0473 - acc: 0.9867\n",
      "Epoch 56/70\n",
      "3998/3998 [==============================] - 0s 23us/step - loss: 0.0461 - acc: 0.9872\n",
      "Epoch 57/70\n",
      "3998/3998 [==============================] - 0s 22us/step - loss: 0.0449 - acc: 0.9876\n",
      "Epoch 58/70\n",
      "3998/3998 [==============================] - 0s 23us/step - loss: 0.0439 - acc: 0.9877\n",
      "Epoch 59/70\n",
      "3998/3998 [==============================] - 0s 26us/step - loss: 0.0429 - acc: 0.9882\n",
      "Epoch 60/70\n",
      "3998/3998 [==============================] - 0s 24us/step - loss: 0.0418 - acc: 0.9884\n",
      "Epoch 61/70\n",
      "3998/3998 [==============================] - 0s 24us/step - loss: 0.0409 - acc: 0.9885\n",
      "Epoch 62/70\n",
      "3998/3998 [==============================] - 0s 25us/step - loss: 0.0400 - acc: 0.9887\n",
      "Epoch 63/70\n",
      "3998/3998 [==============================] - 0s 25us/step - loss: 0.0391 - acc: 0.9894\n",
      "Epoch 64/70\n",
      "3998/3998 [==============================] - 0s 25us/step - loss: 0.0383 - acc: 0.9897\n",
      "Epoch 65/70\n",
      "3998/3998 [==============================] - 0s 25us/step - loss: 0.0374 - acc: 0.9897\n",
      "Epoch 66/70\n",
      "3998/3998 [==============================] - 0s 25us/step - loss: 0.0368 - acc: 0.9899\n",
      "Epoch 67/70\n",
      "3998/3998 [==============================] - 0s 25us/step - loss: 0.0360 - acc: 0.9899\n",
      "Epoch 68/70\n",
      "3998/3998 [==============================] - 0s 22us/step - loss: 0.0354 - acc: 0.9901\n",
      "Epoch 69/70\n",
      "3998/3998 [==============================] - 0s 25us/step - loss: 0.0346 - acc: 0.9904\n",
      "Epoch 70/70\n",
      "3998/3998 [==============================] - 0s 22us/step - loss: 0.0339 - acc: 0.9906\n"
     ]
    },
    {
     "data": {
      "text/plain": [
       "<keras.callbacks.History at 0x7fa532d82cc0>"
      ]
     },
     "execution_count": 6,
     "metadata": {},
     "output_type": "execute_result"
    }
   ],
   "source": [
    "from keras.models import Sequential\n",
    "from keras.layers import Dense, Flatten\n",
    "from keras.layers.embeddings import Embedding\n",
    "\n",
    "# define the model\n",
    "model = Sequential()\n",
    "model.add(Embedding(input_dim=nb_words, output_dim=8, input_length=input_len))\n",
    "model.add(Flatten())\n",
    "model.add(Dense(4, activation='sigmoid'))\n",
    "\n",
    "# compile the model\n",
    "\n",
    "model.compile(optimizer='adam', loss='binary_crossentropy', metrics=['acc'])\n",
    "# print(model.summary())\n",
    "# batch = 50\n",
    "batch = 100\n",
    "model.fit(X_train, Y_train, epochs=70, batch_size=batch, verbose=1)\n",
    "\n"
   ]
  },
  {
   "cell_type": "code",
   "execution_count": 7,
   "metadata": {},
   "outputs": [
    {
     "name": "stdout",
     "output_type": "stream",
     "text": [
      "0.79925\n"
     ]
    }
   ],
   "source": [
    "loss, accuracy = model.evaluate(X_test, Y_test, verbose=0)\n",
    "# loss, accuracy = model.evaluate(X_train, Y_train)\n",
    "print(accuracy)"
   ]
  },
  {
   "cell_type": "code",
   "execution_count": 10,
   "metadata": {},
   "outputs": [
    {
     "name": "stdout",
     "output_type": "stream",
     "text": [
      " Encore un portrait de Macron dérobé par des militants écolos https://t.co/oCsnNcbV5N via @20minutes\n",
      " Elections européennes : Emmanuel Macron lance la campagne https://t.co/z7vvTxG1K6\n",
      " @MelleCamelia @tvlofficiel @JeanMessiha @RNational_off @BHL Logique Trump à de résultats.!!! Macron  fait que de la com et maintenant la comédie pour les élections européennes !!! https://t.co/tjB6u9rZlg\n",
      " Pour une #RenaissanceEuropéenne : @EmmanuelMacron  pose les bases d'un nouveau projet européen avec des choix forts et précis pour défendre nos libertés, protéger notre continent et retrouver l'esprit de progrès. https://t.co/6xulbrUIax\n"
     ]
    }
   ],
   "source": [
    "testdata = parse_archive(\"test.data\")\n",
    "\n",
    "for tw in testdata :\n",
    "    \n",
    "    text = processTweet(testdata[tw]['text'])\n",
    "    print(text)\n",
    "#     test_vect = vectorize_tweet(test, \"pos\", bow, input_len)\n",
    "#     v = np.array(test_vect['vectorized'])\n",
    "#     v = v.reshape((1,input_len))\n",
    "\n",
    "#     res = model.predict([v])[0]\n",
    "#     out = decode_output(res)\n",
    "#     print(\"tweet is evaluated \" + out[0])"
   ]
  },
  {
   "cell_type": "code",
   "execution_count": null,
   "metadata": {},
   "outputs": [],
   "source": []
  },
  {
   "cell_type": "code",
   "execution_count": null,
   "metadata": {},
   "outputs": [],
   "source": []
  },
  {
   "cell_type": "code",
   "execution_count": null,
   "metadata": {},
   "outputs": [],
   "source": []
  },
  {
   "cell_type": "code",
   "execution_count": null,
   "metadata": {},
   "outputs": [],
   "source": []
  },
  {
   "cell_type": "code",
   "execution_count": null,
   "metadata": {},
   "outputs": [],
   "source": []
  },
  {
   "cell_type": "code",
   "execution_count": null,
   "metadata": {},
   "outputs": [],
   "source": []
  },
  {
   "cell_type": "code",
   "execution_count": null,
   "metadata": {},
   "outputs": [],
   "source": []
  }
 ],
 "metadata": {
  "kernelspec": {
   "display_name": "env",
   "language": "python",
   "name": "env"
  },
  "language_info": {
   "codemirror_mode": {
    "name": "ipython",
    "version": 3
   },
   "file_extension": ".py",
   "mimetype": "text/x-python",
   "name": "python",
   "nbconvert_exporter": "python",
   "pygments_lexer": "ipython3",
   "version": "3.6.7"
  }
 },
 "nbformat": 4,
 "nbformat_minor": 2
}
