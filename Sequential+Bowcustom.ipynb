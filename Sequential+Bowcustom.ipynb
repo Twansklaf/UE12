{
 "cells": [
  {
   "cell_type": "markdown",
   "metadata": {},
   "source": [
    "### Test sentiment ML 2"
   ]
  },
  {
   "cell_type": "code",
   "execution_count": 1,
   "metadata": {},
   "outputs": [],
   "source": [
    "from parse import *\n",
    "from word_tools import *\n"
   ]
  },
  {
   "cell_type": "code",
   "execution_count": 2,
   "metadata": {},
   "outputs": [
    {
     "name": "stdout",
     "output_type": "stream",
     "text": [
      "['contre', 'être', 'européens', 'ont', 'tous', 'grand', 'même', 'politique', 'bien', 'français', 'président', 'lui', 'ils', 'faire', 'tout', 'comme', 'sont', 'raffarin', 'gilets', 'jaunes', 'renaissance', 'tribune', 'http', 'nous', 'fait', 'mais', 'via', 'européennes', 'france', 'par', 'son', 'plus', 'européenne', 'avec', 'sur', 'aux', 'europe', 'vous', 'dans', 'emmanuel', 'qui', 'pas', 'que', 'une', 'des', 'pour', 'est', 'les', '', 'macron']\n"
     ]
    }
   ],
   "source": [
    "from word_tools import make_bagofwords\n",
    "\n",
    "nb_words = 10000\n",
    "\n",
    "bow = make_bagofwords(\"data/corpus.data\", 10000)\n",
    "print(bow[-50:])"
   ]
  },
  {
   "cell_type": "code",
   "execution_count": 3,
   "metadata": {},
   "outputs": [],
   "source": [
    "from word_tools import vectorize_tweets\n",
    "vect = vectorize_tweets(\"data/corpus.data\", bow)"
   ]
  },
  {
   "cell_type": "code",
   "execution_count": 4,
   "metadata": {},
   "outputs": [
    {
     "name": "stdout",
     "output_type": "stream",
     "text": [
      "(49,)\n"
     ]
    }
   ],
   "source": [
    "import numpy as np\n",
    "keys = [k for k in vect]\n",
    "\n",
    "input_len = np.shape(vect[keys[0]]['vectorized'])[0]\n",
    "\n",
    "print(np.shape(vect[keys[0]]['vectorized']))"
   ]
  },
  {
   "cell_type": "code",
   "execution_count": 5,
   "metadata": {},
   "outputs": [],
   "source": [
    "\n",
    "def extract_data(vectsdict):\n",
    "    import numpy as np\n",
    "    vects = []\n",
    "    labels = []\n",
    "    \n",
    "    for key in vectsdict :\n",
    "        if not np.all(vectsdict[key]['label'] == 0) :\n",
    "            vects.append(vectsdict[key]['vectorized'])\n",
    "            labels.append(vectsdict[key]['label'])\n",
    "    return np.array(vects), np.array(labels)\n",
    "\n",
    "def decode_output(out_array) :\n",
    "    if out_array[0] == np.max(out_array) :\n",
    "        return \"irr\", np.max(out_array)\n",
    "    elif out_array[1] == np.max(out_array) :\n",
    "        return \"neg\", np.max(out_array)\n",
    "    elif out_array[2] == np.max(out_array) :\n",
    "        return \"neu\",np.max(out_array)\n",
    "    elif out_array[3] == np.max(out_array) :\n",
    "        return \"pos\",np.max(out_array)\n",
    "    else :\n",
    "        return \"err\",0\n",
    "    \n",
    "data, labels = extract_data(vect)\n",
    "\n",
    "\n",
    "percentage_train = 0.8\n",
    "borne = int(percentage_train*len(data))\n",
    "X_train = data[:borne]\n",
    "Y_train = labels[:borne]\n",
    "X_test = data[borne:]\n",
    "Y_test = labels[borne:]\n",
    "\n"
   ]
  },
  {
   "cell_type": "code",
   "execution_count": 6,
   "metadata": {},
   "outputs": [
    {
     "name": "stderr",
     "output_type": "stream",
     "text": [
      "Using TensorFlow backend.\n"
     ]
    },
    {
     "name": "stdout",
     "output_type": "stream",
     "text": [
      "Epoch 1/70\n",
      "3998/3998 [==============================] - 0s 53us/step - loss: 0.6412 - acc: 0.7227\n",
      "Epoch 2/70\n",
      "3998/3998 [==============================] - 0s 22us/step - loss: 0.5028 - acc: 0.7706\n",
      "Epoch 3/70\n",
      "3998/3998 [==============================] - 0s 19us/step - loss: 0.4562 - acc: 0.7825\n",
      "Epoch 4/70\n",
      "3998/3998 [==============================] - 0s 21us/step - loss: 0.4412 - acc: 0.7993\n",
      "Epoch 5/70\n",
      "3998/3998 [==============================] - 0s 21us/step - loss: 0.4230 - acc: 0.8165\n",
      "Epoch 6/70\n",
      "3998/3998 [==============================] - 0s 21us/step - loss: 0.4024 - acc: 0.8281\n",
      "Epoch 7/70\n",
      "3998/3998 [==============================] - 0s 21us/step - loss: 0.3815 - acc: 0.8412\n",
      "Epoch 8/70\n",
      "3998/3998 [==============================] - 0s 21us/step - loss: 0.3614 - acc: 0.8542\n",
      "Epoch 9/70\n",
      "3998/3998 [==============================] - 0s 21us/step - loss: 0.3426 - acc: 0.8654\n",
      "Epoch 10/70\n",
      "3998/3998 [==============================] - 0s 21us/step - loss: 0.3246 - acc: 0.8760\n",
      "Epoch 11/70\n",
      "3998/3998 [==============================] - 0s 21us/step - loss: 0.3075 - acc: 0.8854\n",
      "Epoch 12/70\n",
      "3998/3998 [==============================] - 0s 21us/step - loss: 0.2911 - acc: 0.8949\n",
      "Epoch 13/70\n",
      "3998/3998 [==============================] - 0s 21us/step - loss: 0.2753 - acc: 0.9034\n",
      "Epoch 14/70\n",
      "3998/3998 [==============================] - 0s 21us/step - loss: 0.2602 - acc: 0.9098\n",
      "Epoch 15/70\n",
      "3998/3998 [==============================] - 0s 21us/step - loss: 0.2459 - acc: 0.9164\n",
      "Epoch 16/70\n",
      "3998/3998 [==============================] - 0s 18us/step - loss: 0.2320 - acc: 0.9216\n",
      "Epoch 17/70\n",
      "3998/3998 [==============================] - 0s 24us/step - loss: 0.2192 - acc: 0.9270\n",
      "Epoch 18/70\n",
      "3998/3998 [==============================] - 0s 24us/step - loss: 0.2071 - acc: 0.9309\n",
      "Epoch 19/70\n",
      "3998/3998 [==============================] - 0s 21us/step - loss: 0.1957 - acc: 0.9360\n",
      "Epoch 20/70\n",
      "3998/3998 [==============================] - 0s 21us/step - loss: 0.1851 - acc: 0.9409\n",
      "Epoch 21/70\n",
      "3998/3998 [==============================] - 0s 23us/step - loss: 0.1751 - acc: 0.9449\n",
      "Epoch 22/70\n",
      "3998/3998 [==============================] - 0s 21us/step - loss: 0.1659 - acc: 0.9497\n",
      "Epoch 23/70\n",
      "3998/3998 [==============================] - 0s 23us/step - loss: 0.1575 - acc: 0.9525\n",
      "Epoch 24/70\n",
      "3998/3998 [==============================] - 0s 22us/step - loss: 0.1494 - acc: 0.9561\n",
      "Epoch 25/70\n",
      "3998/3998 [==============================] - 0s 24us/step - loss: 0.1419 - acc: 0.9598\n",
      "Epoch 26/70\n",
      "3998/3998 [==============================] - 0s 21us/step - loss: 0.1350 - acc: 0.9625\n",
      "Epoch 27/70\n",
      "3998/3998 [==============================] - 0s 20us/step - loss: 0.1285 - acc: 0.9646\n",
      "Epoch 28/70\n",
      "3998/3998 [==============================] - 0s 37us/step - loss: 0.1225 - acc: 0.9660\n",
      "Epoch 29/70\n",
      "3998/3998 [==============================] - 0s 52us/step - loss: 0.1168 - acc: 0.9679\n",
      "Epoch 30/70\n",
      "3998/3998 [==============================] - 0s 35us/step - loss: 0.1116 - acc: 0.9710\n",
      "Epoch 31/70\n",
      "3998/3998 [==============================] - 0s 29us/step - loss: 0.1066 - acc: 0.9722\n",
      "Epoch 32/70\n",
      "3998/3998 [==============================] - 0s 29us/step - loss: 0.1021 - acc: 0.9735\n",
      "Epoch 33/70\n",
      "3998/3998 [==============================] - 0s 27us/step - loss: 0.0978 - acc: 0.9749\n",
      "Epoch 34/70\n",
      "3998/3998 [==============================] - 0s 21us/step - loss: 0.0938 - acc: 0.9757\n",
      "Epoch 35/70\n",
      "3998/3998 [==============================] - 0s 21us/step - loss: 0.0899 - acc: 0.9765\n",
      "Epoch 36/70\n",
      "3998/3998 [==============================] - 0s 24us/step - loss: 0.0865 - acc: 0.9772\n",
      "Epoch 37/70\n",
      "3998/3998 [==============================] - 0s 21us/step - loss: 0.0831 - acc: 0.9784\n",
      "Epoch 38/70\n",
      "3998/3998 [==============================] - 0s 21us/step - loss: 0.0800 - acc: 0.9791\n",
      "Epoch 39/70\n",
      "3998/3998 [==============================] - 0s 23us/step - loss: 0.0771 - acc: 0.9796\n",
      "Epoch 40/70\n",
      "3998/3998 [==============================] - 0s 25us/step - loss: 0.0744 - acc: 0.9809\n",
      "Epoch 41/70\n",
      "3998/3998 [==============================] - 0s 22us/step - loss: 0.0717 - acc: 0.9808\n",
      "Epoch 42/70\n",
      "3998/3998 [==============================] - 0s 23us/step - loss: 0.0693 - acc: 0.9821\n",
      "Epoch 43/70\n",
      "3998/3998 [==============================] - 0s 22us/step - loss: 0.0669 - acc: 0.9826\n",
      "Epoch 44/70\n",
      "3998/3998 [==============================] - 0s 24us/step - loss: 0.0647 - acc: 0.9837\n",
      "Epoch 45/70\n",
      "3998/3998 [==============================] - 0s 21us/step - loss: 0.0627 - acc: 0.9842\n",
      "Epoch 46/70\n",
      "3998/3998 [==============================] - 0s 23us/step - loss: 0.0608 - acc: 0.9850\n",
      "Epoch 47/70\n",
      "3998/3998 [==============================] - 0s 22us/step - loss: 0.0589 - acc: 0.9847\n",
      "Epoch 48/70\n",
      "3998/3998 [==============================] - 0s 22us/step - loss: 0.0571 - acc: 0.9857\n",
      "Epoch 49/70\n",
      "3998/3998 [==============================] - 0s 25us/step - loss: 0.0554 - acc: 0.9859\n",
      "Epoch 50/70\n",
      "3998/3998 [==============================] - 0s 24us/step - loss: 0.0538 - acc: 0.9862\n",
      "Epoch 51/70\n",
      "3998/3998 [==============================] - 0s 22us/step - loss: 0.0524 - acc: 0.9864\n",
      "Epoch 52/70\n",
      "3998/3998 [==============================] - 0s 22us/step - loss: 0.0509 - acc: 0.9868\n",
      "Epoch 53/70\n",
      "3998/3998 [==============================] - 0s 22us/step - loss: 0.0495 - acc: 0.9871\n",
      "Epoch 54/70\n",
      "3998/3998 [==============================] - 0s 22us/step - loss: 0.0482 - acc: 0.9874\n",
      "Epoch 55/70\n",
      "3998/3998 [==============================] - 0s 22us/step - loss: 0.0470 - acc: 0.9876\n",
      "Epoch 56/70\n",
      "3998/3998 [==============================] - 0s 22us/step - loss: 0.0458 - acc: 0.9883\n",
      "Epoch 57/70\n",
      "3998/3998 [==============================] - 0s 21us/step - loss: 0.0447 - acc: 0.9882\n",
      "Epoch 58/70\n",
      "3998/3998 [==============================] - 0s 22us/step - loss: 0.0437 - acc: 0.9885\n",
      "Epoch 59/70\n",
      "3998/3998 [==============================] - 0s 25us/step - loss: 0.0426 - acc: 0.9889\n",
      "Epoch 60/70\n",
      "3998/3998 [==============================] - 0s 25us/step - loss: 0.0415 - acc: 0.9892\n",
      "Epoch 61/70\n",
      "3998/3998 [==============================] - 0s 22us/step - loss: 0.0405 - acc: 0.9892\n",
      "Epoch 62/70\n",
      "3998/3998 [==============================] - 0s 22us/step - loss: 0.0397 - acc: 0.9895\n",
      "Epoch 63/70\n",
      "3998/3998 [==============================] - 0s 23us/step - loss: 0.0388 - acc: 0.9896\n",
      "Epoch 64/70\n",
      "3998/3998 [==============================] - 0s 23us/step - loss: 0.0379 - acc: 0.9898\n",
      "Epoch 65/70\n",
      "3998/3998 [==============================] - 0s 24us/step - loss: 0.0371 - acc: 0.9898\n",
      "Epoch 66/70\n",
      "3998/3998 [==============================] - 0s 22us/step - loss: 0.0363 - acc: 0.9897\n",
      "Epoch 67/70\n",
      "3998/3998 [==============================] - 0s 23us/step - loss: 0.0356 - acc: 0.9902\n",
      "Epoch 68/70\n",
      "3998/3998 [==============================] - 0s 21us/step - loss: 0.0348 - acc: 0.9904\n",
      "Epoch 69/70\n",
      "3998/3998 [==============================] - 0s 22us/step - loss: 0.0342 - acc: 0.9907\n",
      "Epoch 70/70\n",
      "3998/3998 [==============================] - 0s 25us/step - loss: 0.0336 - acc: 0.9905\n"
     ]
    },
    {
     "data": {
      "text/plain": [
       "<keras.callbacks.History at 0x7f0a3a6ecf98>"
      ]
     },
     "execution_count": 6,
     "metadata": {},
     "output_type": "execute_result"
    }
   ],
   "source": [
    "from keras.models import Sequential\n",
    "from keras.layers import Dense, Flatten\n",
    "from keras.layers.embeddings import Embedding\n",
    "\n",
    "# define the model\n",
    "model = Sequential()\n",
    "model.add(Embedding(input_dim=nb_words, output_dim=8, input_length=input_len))\n",
    "model.add(Flatten())\n",
    "model.add(Dense(4, activation='sigmoid'))\n",
    "\n",
    "# compile the model\n",
    "\n",
    "model.compile(optimizer='adam', loss='binary_crossentropy', metrics=['acc'])\n",
    "# print(model.summary())\n",
    "# batch = 50\n",
    "batch = 100\n",
    "model.fit(X_train, Y_train, epochs=70, batch_size=batch, verbose=1)\n",
    "\n"
   ]
  },
  {
   "cell_type": "code",
   "execution_count": 7,
   "metadata": {},
   "outputs": [
    {
     "name": "stdout",
     "output_type": "stream",
     "text": [
      "0.79625\n"
     ]
    }
   ],
   "source": [
    "loss, accuracy = model.evaluate(X_test, Y_test, verbose=0)\n",
    "# loss, accuracy = model.evaluate(X_train, Y_train)\n",
    "print(accuracy)"
   ]
  },
  {
   "cell_type": "code",
   "execution_count": 9,
   "metadata": {},
   "outputs": [],
   "source": [
    "testdata = parse_archive(\"test.data\")\n",
    "\n",
    "for tw in testdata :\n",
    "    \n",
    "    text = processTweet(testdata[tw]['text'])\n",
    "    \n",
    "    test_vect = vectorize_tweet(text, \"pos\", bow, input_len)\n",
    "#     v = np.array(test_vect['vectorized'])\n",
    "#     v = v.reshape((1,input_len))\n",
    "\n",
    "#     res = model.predict([v])[0]\n",
    "#     out = decode_output(res)\n",
    "#     print(\"tweet is evaluated \" + out[0])"
   ]
  },
  {
   "cell_type": "code",
   "execution_count": null,
   "metadata": {},
   "outputs": [],
   "source": []
  },
  {
   "cell_type": "code",
   "execution_count": null,
   "metadata": {},
   "outputs": [],
   "source": []
  },
  {
   "cell_type": "code",
   "execution_count": null,
   "metadata": {},
   "outputs": [],
   "source": []
  },
  {
   "cell_type": "code",
   "execution_count": null,
   "metadata": {},
   "outputs": [],
   "source": []
  },
  {
   "cell_type": "code",
   "execution_count": null,
   "metadata": {},
   "outputs": [],
   "source": []
  },
  {
   "cell_type": "code",
   "execution_count": null,
   "metadata": {},
   "outputs": [],
   "source": []
  },
  {
   "cell_type": "code",
   "execution_count": null,
   "metadata": {},
   "outputs": [],
   "source": []
  }
 ],
 "metadata": {
  "kernelspec": {
   "display_name": "env",
   "language": "python",
   "name": "env"
  },
  "language_info": {
   "codemirror_mode": {
    "name": "ipython",
    "version": 3
   },
   "file_extension": ".py",
   "mimetype": "text/x-python",
   "name": "python",
   "nbconvert_exporter": "python",
   "pygments_lexer": "ipython3",
   "version": "3.6.7"
  }
 },
 "nbformat": 4,
 "nbformat_minor": 2
}
