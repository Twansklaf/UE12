{
 "cells": [
  {
   "cell_type": "markdown",
   "metadata": {},
   "source": [
    "### Test sentiment ML 2"
   ]
  },
  {
   "cell_type": "code",
   "execution_count": 2,
   "metadata": {},
   "outputs": [],
   "source": [
    "from parse import *\n",
    "from word_tools import *\n"
   ]
  },
  {
   "cell_type": "code",
   "execution_count": 3,
   "metadata": {},
   "outputs": [
    {
     "name": "stdout",
     "output_type": "stream",
     "text": [
      "['contre', 'grand', 'ses', 'européens', 'être', 'ont', 'tous', 'politique', 'français', 'même', 'bien', 'raffarin', 'ils', 'président', 'lui', 'tout', 'comme', 'faire', 'sont', 'renaissance', 'jaunes', 'gilets', 'tribune', 'nous', 'fait', 'européennes', 'mais', 'par', 'via', 'son', 'france', 'plus', 'avec', 'européenne', 'europe', 'sur', 'aux', 'vous', 'dans', 'emmanuel', 'qui', 'pas', 'une', 'que', 'des', 'pour', 'est', 'les', '', 'macron']\n"
     ]
    }
   ],
   "source": [
    "from word_tools import make_bagofwords\n",
    "\n",
    "nb_words = 10000\n",
    "\n",
    "bow = make_bagofwords(\"corpus_ready.data\", 10000)\n",
    "print(bow[-50:])"
   ]
  },
  {
   "cell_type": "code",
   "execution_count": 4,
   "metadata": {},
   "outputs": [],
   "source": [
    "from word_tools import vectorize_tweets\n",
    "vect = vectorize_tweets(\"corpus_ready.data\", bow)"
   ]
  },
  {
   "cell_type": "code",
   "execution_count": 5,
   "metadata": {},
   "outputs": [
    {
     "name": "stdout",
     "output_type": "stream",
     "text": [
      "(63,)\n"
     ]
    }
   ],
   "source": [
    "import numpy as np\n",
    "keys = [k for k in vect]\n",
    "\n",
    "input_len = np.shape(vect[keys[0]]['vectorized'])[0]\n",
    "\n",
    "print(np.shape(vect[keys[0]]['vectorized']))"
   ]
  },
  {
   "cell_type": "code",
   "execution_count": 6,
   "metadata": {},
   "outputs": [
    {
     "name": "stdout",
     "output_type": "stream",
     "text": [
      "[9704 9316 8974 9146 9855 9851 9840 9215 8494 9813 9854    0    0    0\n",
      "    0    0    0    0    0    0    0    0    0    0    0    0    0    0\n",
      "    0    0    0    0    0    0    0    0    0    0    0    0    0    0\n",
      "    0    0    0    0    0    0    0    0    0    0    0    0    0    0\n",
      "    0    0    0    0    0    0    0]\n"
     ]
    }
   ],
   "source": [
    "\n",
    "def extract_data(vectsdict):\n",
    "    import numpy as np\n",
    "    vects = []\n",
    "    labels = []\n",
    "    \n",
    "    for key in vectsdict :\n",
    "        if not np.all(vectsdict[key]['label'] == 0) :\n",
    "            vects.append(vectsdict[key]['vectorized'])\n",
    "            labels.append(vectsdict[key]['label'])\n",
    "    return np.array(vects), np.array(labels)\n",
    "\n",
    "def decode_output(out_array) :\n",
    "    if out_array[0] == np.max(out_array) :\n",
    "        return \"irr\", np.max(out_array)\n",
    "    elif out_array[1] == np.max(out_array) :\n",
    "        return \"neg\", np.max(out_array)\n",
    "    elif out_array[2] == np.max(out_array) :\n",
    "        return \"neu\",np.max(out_array)\n",
    "    elif out_array[3] == np.max(out_array) :\n",
    "        return \"pos\",np.max(out_array)\n",
    "    else :\n",
    "        return \"err\",0\n",
    "    \n",
    "data, labels = extract_data(vect)\n",
    "\n",
    "\n",
    "percentage_train = 0.8\n",
    "borne = int(percentage_train*len(data))\n",
    "X_train = data[:borne]\n",
    "Y_train = labels[:borne]\n",
    "X_test = data[borne:]\n",
    "Y_test = labels[borne:]\n",
    "\n",
    "print(X_train[0])"
   ]
  },
  {
   "cell_type": "code",
   "execution_count": 7,
   "metadata": {},
   "outputs": [
    {
     "name": "stderr",
     "output_type": "stream",
     "text": [
      "Using TensorFlow backend.\n"
     ]
    },
    {
     "name": "stdout",
     "output_type": "stream",
     "text": [
      "Epoch 1/70\n",
      "2647/2647 [==============================] - 0s 83us/step - loss: 0.6345 - acc: 0.7510\n",
      "Epoch 2/70\n",
      "2647/2647 [==============================] - 0s 28us/step - loss: 0.5097 - acc: 0.7917\n",
      "Epoch 3/70\n",
      "2647/2647 [==============================] - 0s 23us/step - loss: 0.4515 - acc: 0.7923\n",
      "Epoch 4/70\n",
      "2647/2647 [==============================] - 0s 25us/step - loss: 0.4358 - acc: 0.8001\n",
      "Epoch 5/70\n",
      "2647/2647 [==============================] - 0s 25us/step - loss: 0.4208 - acc: 0.8141\n",
      "Epoch 6/70\n",
      "2647/2647 [==============================] - 0s 24us/step - loss: 0.4041 - acc: 0.8274\n",
      "Epoch 7/70\n",
      "2647/2647 [==============================] - 0s 28us/step - loss: 0.3862 - acc: 0.8397\n",
      "Epoch 8/70\n",
      "2647/2647 [==============================] - 0s 25us/step - loss: 0.3679 - acc: 0.8526\n",
      "Epoch 9/70\n",
      "2647/2647 [==============================] - 0s 25us/step - loss: 0.3499 - acc: 0.8655\n",
      "Epoch 10/70\n",
      "2647/2647 [==============================] - 0s 28us/step - loss: 0.3327 - acc: 0.8733\n",
      "Epoch 11/70\n",
      "2647/2647 [==============================] - 0s 30us/step - loss: 0.3164 - acc: 0.8836\n",
      "Epoch 12/70\n",
      "2647/2647 [==============================] - 0s 23us/step - loss: 0.3008 - acc: 0.8910\n",
      "Epoch 13/70\n",
      "2647/2647 [==============================] - 0s 30us/step - loss: 0.2859 - acc: 0.8991\n",
      "Epoch 14/70\n",
      "2647/2647 [==============================] - 0s 23us/step - loss: 0.2715 - acc: 0.9068\n",
      "Epoch 15/70\n",
      "2647/2647 [==============================] - 0s 25us/step - loss: 0.2577 - acc: 0.9126\n",
      "Epoch 16/70\n",
      "2647/2647 [==============================] - 0s 27us/step - loss: 0.2445 - acc: 0.9207\n",
      "Epoch 17/70\n",
      "2647/2647 [==============================] - 0s 26us/step - loss: 0.2321 - acc: 0.9243\n",
      "Epoch 18/70\n",
      "2647/2647 [==============================] - 0s 26us/step - loss: 0.2201 - acc: 0.9292\n",
      "Epoch 19/70\n",
      "2647/2647 [==============================] - 0s 24us/step - loss: 0.2088 - acc: 0.9331\n",
      "Epoch 20/70\n",
      "2647/2647 [==============================] - 0s 30us/step - loss: 0.1981 - acc: 0.9377\n",
      "Epoch 21/70\n",
      "2647/2647 [==============================] - 0s 25us/step - loss: 0.1881 - acc: 0.9411\n",
      "Epoch 22/70\n",
      "2647/2647 [==============================] - 0s 26us/step - loss: 0.1784 - acc: 0.9444\n",
      "Epoch 23/70\n",
      "2647/2647 [==============================] - 0s 25us/step - loss: 0.1694 - acc: 0.9487\n",
      "Epoch 24/70\n",
      "2647/2647 [==============================] - 0s 24us/step - loss: 0.1609 - acc: 0.9524\n",
      "Epoch 25/70\n",
      "2647/2647 [==============================] - 0s 26us/step - loss: 0.1529 - acc: 0.9549\n",
      "Epoch 26/70\n",
      "2647/2647 [==============================] - 0s 27us/step - loss: 0.1453 - acc: 0.9599\n",
      "Epoch 27/70\n",
      "2647/2647 [==============================] - 0s 28us/step - loss: 0.1380 - acc: 0.9620\n",
      "Epoch 28/70\n",
      "2647/2647 [==============================] - 0s 27us/step - loss: 0.1313 - acc: 0.9634\n",
      "Epoch 29/70\n",
      "2647/2647 [==============================] - 0s 25us/step - loss: 0.1250 - acc: 0.9649\n",
      "Epoch 30/70\n",
      "2647/2647 [==============================] - 0s 31us/step - loss: 0.1190 - acc: 0.9684\n",
      "Epoch 31/70\n",
      "2647/2647 [==============================] - 0s 26us/step - loss: 0.1134 - acc: 0.9702\n",
      "Epoch 32/70\n",
      "2647/2647 [==============================] - 0s 26us/step - loss: 0.1083 - acc: 0.9713\n",
      "Epoch 33/70\n",
      "2647/2647 [==============================] - 0s 25us/step - loss: 0.1033 - acc: 0.9731\n",
      "Epoch 34/70\n",
      "2647/2647 [==============================] - 0s 26us/step - loss: 0.0988 - acc: 0.9744\n",
      "Epoch 35/70\n",
      "2647/2647 [==============================] - 0s 24us/step - loss: 0.0944 - acc: 0.9753\n",
      "Epoch 36/70\n",
      "2647/2647 [==============================] - 0s 32us/step - loss: 0.0903 - acc: 0.9778\n",
      "Epoch 37/70\n",
      "2647/2647 [==============================] - 0s 22us/step - loss: 0.0864 - acc: 0.9783\n",
      "Epoch 38/70\n",
      "2647/2647 [==============================] - 0s 29us/step - loss: 0.0828 - acc: 0.9798\n",
      "Epoch 39/70\n",
      "2647/2647 [==============================] - 0s 39us/step - loss: 0.0795 - acc: 0.9805\n",
      "Epoch 40/70\n",
      "2647/2647 [==============================] - 0s 30us/step - loss: 0.0764 - acc: 0.9812\n",
      "Epoch 41/70\n",
      "2647/2647 [==============================] - 0s 28us/step - loss: 0.0734 - acc: 0.9828\n",
      "Epoch 42/70\n",
      "2647/2647 [==============================] - 0s 25us/step - loss: 0.0706 - acc: 0.9831\n",
      "Epoch 43/70\n",
      "2647/2647 [==============================] - 0s 31us/step - loss: 0.0680 - acc: 0.9833\n",
      "Epoch 44/70\n",
      "2647/2647 [==============================] - 0s 29us/step - loss: 0.0656 - acc: 0.9845\n",
      "Epoch 45/70\n",
      "2647/2647 [==============================] - 0s 27us/step - loss: 0.0633 - acc: 0.9847\n",
      "Epoch 46/70\n",
      "2647/2647 [==============================] - 0s 31us/step - loss: 0.0610 - acc: 0.9858\n",
      "Epoch 47/70\n",
      "2647/2647 [==============================] - 0s 28us/step - loss: 0.0589 - acc: 0.9862\n",
      "Epoch 48/70\n",
      "2647/2647 [==============================] - 0s 29us/step - loss: 0.0571 - acc: 0.9861\n",
      "Epoch 49/70\n",
      "2647/2647 [==============================] - 0s 25us/step - loss: 0.0552 - acc: 0.9877\n",
      "Epoch 50/70\n",
      "2647/2647 [==============================] - 0s 22us/step - loss: 0.0533 - acc: 0.9876\n",
      "Epoch 51/70\n",
      "2647/2647 [==============================] - 0s 25us/step - loss: 0.0517 - acc: 0.9884\n",
      "Epoch 52/70\n",
      "2647/2647 [==============================] - 0s 25us/step - loss: 0.0501 - acc: 0.9888\n",
      "Epoch 53/70\n",
      "2647/2647 [==============================] - 0s 27us/step - loss: 0.0487 - acc: 0.9889\n",
      "Epoch 54/70\n",
      "2647/2647 [==============================] - 0s 31us/step - loss: 0.0472 - acc: 0.9888\n",
      "Epoch 55/70\n",
      "2647/2647 [==============================] - 0s 22us/step - loss: 0.0459 - acc: 0.9890\n",
      "Epoch 56/70\n",
      "2647/2647 [==============================] - 0s 26us/step - loss: 0.0446 - acc: 0.9895\n",
      "Epoch 57/70\n",
      "2647/2647 [==============================] - 0s 25us/step - loss: 0.0433 - acc: 0.9897\n",
      "Epoch 58/70\n",
      "2647/2647 [==============================] - 0s 27us/step - loss: 0.0423 - acc: 0.9905\n",
      "Epoch 59/70\n",
      "2647/2647 [==============================] - 0s 25us/step - loss: 0.0412 - acc: 0.9902\n",
      "Epoch 60/70\n",
      "2647/2647 [==============================] - 0s 26us/step - loss: 0.0400 - acc: 0.9907\n",
      "Epoch 61/70\n",
      "2647/2647 [==============================] - 0s 24us/step - loss: 0.0390 - acc: 0.9907\n",
      "Epoch 62/70\n",
      "2647/2647 [==============================] - 0s 27us/step - loss: 0.0381 - acc: 0.9905\n",
      "Epoch 63/70\n",
      "2647/2647 [==============================] - 0s 30us/step - loss: 0.0371 - acc: 0.9912\n",
      "Epoch 64/70\n",
      "2647/2647 [==============================] - 0s 29us/step - loss: 0.0362 - acc: 0.9913\n",
      "Epoch 65/70\n",
      "2647/2647 [==============================] - 0s 27us/step - loss: 0.0355 - acc: 0.9915\n",
      "Epoch 66/70\n",
      "2647/2647 [==============================] - 0s 29us/step - loss: 0.0347 - acc: 0.9911\n",
      "Epoch 67/70\n",
      "2647/2647 [==============================] - 0s 29us/step - loss: 0.0339 - acc: 0.9918\n",
      "Epoch 68/70\n",
      "2647/2647 [==============================] - 0s 24us/step - loss: 0.0331 - acc: 0.9918\n",
      "Epoch 69/70\n",
      "2647/2647 [==============================] - 0s 26us/step - loss: 0.0325 - acc: 0.9919\n",
      "Epoch 70/70\n",
      "2647/2647 [==============================] - 0s 26us/step - loss: 0.0317 - acc: 0.9922\n"
     ]
    },
    {
     "data": {
      "text/plain": [
       "<keras.callbacks.History at 0x7f8cbfd90ef0>"
      ]
     },
     "execution_count": 7,
     "metadata": {},
     "output_type": "execute_result"
    }
   ],
   "source": [
    "from keras.models import Sequential\n",
    "from keras.layers import Dense, Flatten\n",
    "from keras.layers.embeddings import Embedding\n",
    "\n",
    "# define the model\n",
    "model = Sequential()\n",
    "model.add(Embedding(input_dim=nb_words, output_dim=8, input_length=input_len))\n",
    "model.add(Flatten())\n",
    "model.add(Dense(4, activation='sigmoid'))\n",
    "\n",
    "# compile the model\n",
    "\n",
    "model.compile(optimizer='adam', loss='binary_crossentropy', metrics=['acc'])\n",
    "# print(model.summary())\n",
    "# batch = 50\n",
    "batch = 100\n",
    "model.fit(X_train, Y_train, epochs=70, batch_size=batch, verbose=1)\n",
    "\n"
   ]
  },
  {
   "cell_type": "code",
   "execution_count": 8,
   "metadata": {},
   "outputs": [
    {
     "name": "stdout",
     "output_type": "stream",
     "text": [
      "0.7802114809027612\n"
     ]
    }
   ],
   "source": [
    "loss, accuracy = model.evaluate(X_test, Y_test, verbose=0)\n",
    "# loss, accuracy = model.evaluate(X_train, Y_train)\n",
    "print(accuracy)"
   ]
  },
  {
   "cell_type": "code",
   "execution_count": 9,
   "metadata": {},
   "outputs": [
    {
     "name": "stdout",
     "output_type": "stream",
     "text": [
      "tweet is evaluated neg\n"
     ]
    }
   ],
   "source": [
    "test = \"Aux chiottes macron tu as fais du mal aux gilets jaunes\"\n",
    "\n",
    "test_vect = vectorize_tweet(test, \"pos\", bow, input_len)\n",
    "v = np.array(test_vect['vectorized'])\n",
    "v = v.reshape((1,input_len))\n",
    "\n",
    "res = model.predict([v])[0]\n",
    "out = decode_output(res)\n",
    "print(\"tweet is evaluated \" + out[0])"
   ]
  },
  {
   "cell_type": "code",
   "execution_count": 10,
   "metadata": {},
   "outputs": [],
   "source": [
    "from parse import sample_data\n",
    "testset = sample_data(\"tw_db_prepared.data\", 5000)\n"
   ]
  },
  {
   "cell_type": "code",
   "execution_count": 13,
   "metadata": {},
   "outputs": [
    {
     "name": "stdout",
     "output_type": "stream",
     "text": [
      "83\n"
     ]
    }
   ],
   "source": [
    "# from note import write_emotion\n",
    "neu=[]\n",
    "irr=[]\n",
    "positives=[]\n",
    "negatives=[]\n",
    "\n",
    "for tw in testset :\n",
    "    vec = vectorize_tweet(tw,'???', bow, input_len)\n",
    "#     print(vec['text'])\n",
    "    res = model.predict(vec['vectorized'].reshape((1,input_len)))[0]\n",
    "    out = decode_output(res)\n",
    "    if out[0] == \"pos\" :\n",
    "        positives.append(tw)\n",
    "    elif out[0] == \"neu\" :\n",
    "        neu.append(tw)\n",
    "    elif out[0] == \"neg\" :\n",
    "        negatives.append(tw)\n",
    "    elif out[0] == \"irr\" :\n",
    "        irr.append(tw)\n",
    "#     print(\"tweet is evaluated \" + out[0] + \"\\n\\n\")\n",
    "\n",
    "print(len(positives))"
   ]
  },
  {
   "cell_type": "code",
   "execution_count": 14,
   "metadata": {},
   "outputs": [
    {
     "name": "stdout",
     "output_type": "stream",
     "text": [
      "merci retweet selon sondage odoxa dentsu consulting une majorité français rejettent les manifestations hebdomadaires des gilets jaunes image président république améliore vous supportez toujours les gilets jaunes giletsjaunes odoxa macron\n",
      "merci psa merci macron cet appel generosite est plus proche concessionnaire veux une peugeot \n",
      "chez les petites phrases macron sont plupart temps justes sont accord vent tourne plus plus \n",
      "les sont aussi responsables pic pollution aux particules fines les sont responsables tout est nouvelle règle emmanuel macron \n",
      "acte david tabassé par policier suis réveillé dans une mare sang via sérieux comment font ces flics pour bien vivre jusqu taper une personne invalide vénération absolue pour macron cinglés \n",
      "alex vous avez pas vous excusez vous expliquer vous faites second degré les supporters pouvoir place macron lui même est choqué vous demande des comptes directement indirectement bref vous avez comprendre vous mêmes terrible pour france\n",
      "jean françois copé est hermétique extrême droite dépend des jours jamais sombre dans tentation alliance avec nous serons plus mais émission \n",
      "plait dessine moi macron qui délivre bennala prison bord hélico plait \n",
      "avec etat spectateur désindustrialisation prise contrôle financiers des étrangers pour gvt pas rôle etat reprendre ford blanquefort gérer les aéroports intervenirdnq gestion air france klm pas avis des néerlandais etatactionnaire\n",
      "air france klm etat hollandais prend capital licenciements série grands groupes conforama carrefour fermeture usines ford ascoval vente des biens état aéroport paris française des jeux macron complice pire liquider france \n",
      "humour prémonitoire carnaval cologne met scène des gilets jaunes déboulonnant une statue emmanuel macron via \n",
      "rond points est évoquée permanance ils retrouvent dans fraternité unis comme peuple etc aurait presque les larmes aux yeux apprécie pas non plus choix des paroles macron qui ont été sélectionnées pas une seule parole sur son action mais \n",
      "certain nombre individus provoquent insultent autorité état état doit répondre suis sûr fera mais faut faire maintenant avec une fermeté extrême affirme nicolas sarkozy suivez notre direct \n",
      "quand aura plus macron clique\n",
      "autant voter pour liste macron alors électeurs depuis ans suis choqué par cette déclaration \n",
      "avis aux giletsjaunes macron est val cenis maurienne savoie quelques rond points dans coin \n",
      "bien chose que alauzet incarne est bien mépris classe absence totale ligne politique claire passe aux présidentielles soutien valls puis hamon puis macron appelle cela opportunisme politique alauzet est une imposture lui seul \n",
      "moment gvt euro béat prépare privatisation les pays bas champion libéral hésitent pas eux monter capital infligeant france une belle leçon être libéral est pas renoncer souveraineté nbf\n",
      "donc soir double ration pop corn decathlon retire son indigne hidjab course les djihadistes seront jugés sur les terres leurs massacres combat continue macron affirme pas programme retour des djihadistes \n",
      "live conférence presse avec président république irak \n",
      "vive marine lepen\n",
      "surtout oubliez pas macron démission\n",
      "une très bonne nouvelle pour adopter blockchain dans traçabilité des aliments comme font avec tfd crypto cryptocurrency cryptomonnaie \n",
      "notre président\n",
      "après peu critiquer jeux des français est critiquer dénoncer jamais être accord sur tout rien faire seulement dire cas fait quoi ensemble entends jamais sport favoris égoïsme laissé faire attendre allez dans sens vent lâche\n",
      "entre vision macron vision serais clairement plutôt côté macron suis plutôt juncker orban hollande hamon faure non vous savez droite dure conservatrice \n",
      "lci suis plutôt juncker président ppe commission européenne orban explique \n",
      "jean pierre bouquet interpelle emmanuel macrondans cadre grand débat jean pierre bouquet faisait partie groupe élus grand est conviés elysée pour transmettre président \n",
      "macron fait venir acteur cinéma américain payé pour salon agriculture vous passez côté cyril vous avez déçu\n",
      "merci psa merci macron cet appel generosite est plus proche concessionnaire veux une peugeot \n",
      "dit quoi merci macron \n",
      "mais oubliez pas lrem modem constructifs sont les leches bottes corruption européenne macron qui assomme population pour des interets banquaires autres que français encore moins humains dénués empathie pour les peuples donc pour cela sera \n",
      "zap actu polémique sur hijab decathlon macron arrêt des manifestations zapping zap actualite actu politique decathlon emmanuel macron manifestation \n",
      "bon ouf manque sommeil provoque pas vote macron chez les gens sains normaux \n",
      "giletsjaunes vos droit macron prend note lrem acte xvi \n",
      "laissé libre choix depuis son élection les mêmes convictions change pas des seul homme politique qui une véritable colonne vertébrale change pas gré vent comme mlp nda macron tant autres\n",
      "rien voir avec vision utopiste emmanuel macron europe agirait pas sortir les propos leurs contextes comme fait bien bellamy \n",
      "article dessous suis plutôt juncker président ppe commission européenne orban appartient dlf que assume son positionnement lieu toujours veuillé être flou pour tenter ratisser large \n",
      "macron avait promis ringardiser droite moderniser gauche ringardisé gauche modernisé droite député lrm jdd une fois plus président respecte pas ses promesses \n",
      "merci vous quatre gilets jaunes vous trouvé très très bien faudrait que certaines personnes regardent cette émission plutôt que regarder bfm cnews lci aux ordres macron via csa bravo pour cette résistance face répression initiés par macron\n",
      "plutôt marine que macron\n",
      "voici les intentions votes pour les européennes intentions votes vous avez vos chances larem vous laissez pas aveugler par leurs faux sondages certains organismes sondages roulent pour macron les socialistes ont disparus\n",
      "rond points est évoquée permanance ils retrouvent dans fraternité unis comme peuple etc aurait presque les larmes aux yeux apprécie pas non plus choix des paroles macron qui ont été sélectionnées pas une seule parole sur son action mais \n",
      "juste moment primaire droite vous saviez que sarko allait perdre que macron pouvait sur certains points être pire \n",
      "garantit nos concitoyens que quand les prix montent prend peu moins fiscalité semble plus pertinent certes mais quand pic prix pétrole est plateau qui dure ans notion taxe flottante plus grand sensuq https sok \n",
      "une liste musulmans pour macron rem est comme une liste gilets jaunes pour grignote \n",
      "orange popularité macron philippe remonte février selon harris interactive merci qui merci drouet and avec pilotage branquignolesque mouvement gilets jaunes une vitrine cassée point une voiture brûlée point \n",
      "viens finir lire nouveau livre peuple président suis globalement très déçue vous recommande pas gaspiller vous explique pourquoi dessous emmanuel macron macron gilets jaunes lecture grand debat national lepeupleetlepresident\n",
      "effectivement bien lire jusqu bout les auteurs précisent que france doit absolument tenir chemin réforme que président macron est train poursuivre \n",
      "suis confiant dans président président emmanuel macron\n",
      "suis confiant dans président président emmanuel macron\n",
      "suis confiant dans président président emmanuel macron\n",
      "suis confiant dans président président emmanuel macron\n",
      "suis confiant dans président président emmanuel macron\n",
      "suis confiant dans président président emmanuel macron\n",
      "jean françois copé est hermétique extrême droite dépend des jours jamais sombre dans tentation alliance avec nous serons plus mais \n",
      "asselineau penserait comme gaulle alors pas travaillé ces documents non plus pourtant historien politologue franco allemand alfred grosser est loin être souverainiste appelé voter macron \n",
      "france pas attendu macron pour fermer les maternités fait moins ans que les petites mater ferment \n",
      "crois que vous vous arrangez que vous voulez comprendre matin sur rtl clairement expliqué macron regardez replay\n",
      "air france klm tension monte cran macron demande une clarification haye air france klm delta eastern china paris haye\n",
      "vous avez raison\n",
      "notre macron aime europe aime pas raccomandations europe même temps rien pitoyable \n",
      "air france klm président français appelle les pays bas clarifier leurs intentions président français emmanuel macron appelé mercredi gouvernement néerlandais clarifier ses intentions après entrée surprise etat néerlandais \n",
      "suis confiant dans président président emmanuel macron\n",
      "suis confiant dans président président emmanuel macron\n",
      "suis confiant dans président président emmanuel macron\n",
      "suis confiant dans président président emmanuel macron\n",
      "suis confiant dans président président emmanuel macron\n",
      "suis confiant dans président président emmanuel macron\n",
      "suis confiant dans président président emmanuel macron\n",
      "pour contrer tandem macron pen votre pour leur donnerai jamais mon bulletin \n",
      "suis confiant dans président président emmanuel macron\n",
      "suis confiant dans président président emmanuel macron\n",
      "gironde visite surprise emmanuel macron lors grand débat féminin source france\n",
      "conseiller macron yassine belattar appelle une manifestation soutien hijab decathlon https kou \n",
      "que les français réfléchissent bien ils veulent pas mlp pouvoir nouveau duel avec macron alors ils votent pour des opposants droite gauche dès tour pour les éliminer car sachez bien front républicain marchera plus cette fois\n",
      "bonjour pourriez vous répondre ceci vous plait \n",
      "suis pas personnage voulu caricaturer affirme macron \n",
      "presse attend emmanuel macron résidence préfectorale bordeaux rencontre matin une quarantaine élus locaux dans cadre grand débat \n",
      "argument majeur candidat macron lors élection présidentielle était son expertise économique wait\n",
      "suis pas personnage voulu caricaturer affirme macron \n",
      "tout fait accord pour macron mais voter pour dupont aignan asselineau pen pour espérer changement non merci \n",
      "demander elisabeth borne poursuivre privatisation sncf étonner une société privée cherche profitabilité pour servir ses actionnaires dont etat interroge sncfnt\n"
     ]
    }
   ],
   "source": [
    "for p in positives :\n",
    "    print(p)"
   ]
  },
  {
   "cell_type": "code",
   "execution_count": 15,
   "metadata": {},
   "outputs": [
    {
     "name": "stdout",
     "output_type": "stream",
     "text": [
      "3.6.7 (default, Nov 30 2018, 15:49:23) \n",
      "[GCC 8.2.1 20180831]\n"
     ]
    }
   ],
   "source": [
    "import sys\n",
    "print(sys.version)"
   ]
  },
  {
   "cell_type": "code",
   "execution_count": null,
   "metadata": {},
   "outputs": [],
   "source": []
  }
 ],
 "metadata": {
  "kernelspec": {
   "display_name": "env",
   "language": "python",
   "name": "env"
  },
  "language_info": {
   "codemirror_mode": {
    "name": "ipython",
    "version": 3
   },
   "file_extension": ".py",
   "mimetype": "text/x-python",
   "name": "python",
   "nbconvert_exporter": "python",
   "pygments_lexer": "ipython3",
   "version": "3.6.7"
  }
 },
 "nbformat": 4,
 "nbformat_minor": 2
}
