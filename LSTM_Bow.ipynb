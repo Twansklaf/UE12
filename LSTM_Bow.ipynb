{
 "cells": [
  {
   "cell_type": "markdown",
   "metadata": {},
   "source": [
    "### Test sentiment ML 2"
   ]
  },
  {
   "cell_type": "code",
   "execution_count": 1,
   "metadata": {},
   "outputs": [],
   "source": [
    "from parse import *\n",
    "from word_tools import *\n"
   ]
  },
  {
   "cell_type": "code",
   "execution_count": 2,
   "metadata": {},
   "outputs": [
    {
     "name": "stdout",
     "output_type": "stream",
     "text": [
      "['cette', 'jean', 'contre', 'être', 'lettre', 'tous', 'européens', 'même', 'bien', 'politique', 'français', 'ils', 'tout', 'faire', 'comme', 'lui', 'jaunes', 'président', 'sont', 'gilets', 'nous', 'raffarin', 'mais', 'fait', 'renaissance', 'tribune', 'européennes', 'par', 'son', 'france', 'via', 'plus', 'avec', 'sur', 'européenne', 'europe', 'aux', 'vous', 'dans', 'emmanuel', 'qui', 'pas', 'que', 'une', 'des', 'pour', 'est', 'les', '', 'macron']\n"
     ]
    }
   ],
   "source": [
    "from word_tools import make_bagofwords\n",
    "\n",
    "nb_words = 10000\n",
    "\n",
    "bow = make_bagofwords(\"corpus_ready.data\", nb_words)\n",
    "print(bow[-50:])"
   ]
  },
  {
   "cell_type": "code",
   "execution_count": 3,
   "metadata": {},
   "outputs": [],
   "source": [
    "from word_tools import vectorize_tweets\n",
    "vect = vectorize_tweets(\"tw_db_prepared.data\", bow)"
   ]
  },
  {
   "cell_type": "code",
   "execution_count": 4,
   "metadata": {},
   "outputs": [
    {
     "name": "stdout",
     "output_type": "stream",
     "text": [
      "(45,)\n"
     ]
    }
   ],
   "source": [
    "import numpy as np\n",
    "keys = [k for k in vect]\n",
    "print(np.shape(vect[keys[0]]['vectorized']))"
   ]
  },
  {
   "cell_type": "code",
   "execution_count": 5,
   "metadata": {},
   "outputs": [
    {
     "name": "stdout",
     "output_type": "stream",
     "text": [
      "45\n"
     ]
    }
   ],
   "source": [
    "print(np.max([np.shape(vect[k]['vectorized'])[0] for k in vect]))"
   ]
  },
  {
   "cell_type": "code",
   "execution_count": 6,
   "metadata": {},
   "outputs": [
    {
     "name": "stdout",
     "output_type": "stream",
     "text": [
      "[8700    0 8086 8601 8705 8603 1643 8696    0 7388 8250 8689 8700 8675\n",
      " 8672 8696 8244 1979 8630 7623 8700 5841 8696 8703    0 7346 8700 8577\n",
      " 7245 8701 8703 3927 8403 1735 8241 8704    0    0    0    0    0    0\n",
      "    0    0    0]\n"
     ]
    }
   ],
   "source": [
    "\n",
    "\n",
    "def extract_data(vectsdict):\n",
    "    import numpy as np\n",
    "    vects = []\n",
    "    labels = []\n",
    "    \n",
    "    for key in vectsdict :\n",
    "        if not np.all(vectsdict[key]['label'] == 0) :\n",
    "            vects.append(vectsdict[key]['vectorized'])\n",
    "            labels.append(vectsdict[key]['label'])\n",
    "    return np.array(vects), np.array(labels)\n",
    "\n",
    "def decode_output(out_array) :\n",
    "    if out_array[0] == np.max(out_array) :\n",
    "        return \"irr\", np.max(out_array)\n",
    "    elif out_array[1] == np.max(out_array) :\n",
    "        return \"neg\", np.max(out_array)\n",
    "    elif out_array[2] == np.max(out_array) :\n",
    "        return \"neu\",np.max(out_array)\n",
    "    elif out_array[3] == np.max(out_array) :\n",
    "        return \"pos\",np.max(out_array)\n",
    "    else :\n",
    "        return \"err\",0\n",
    "    \n",
    "data, labels = extract_data(vect)\n",
    "\n",
    "\n",
    "percentage_train = 0.8\n",
    "borne = int(percentage_train*len(data))\n",
    "X_train = data[:borne]\n",
    "Y_train = labels[:borne]\n",
    "X_test = data[borne:]\n",
    "Y_test = labels[borne:]\n",
    "\n",
    "print(X_train[0])\n",
    "input_l = len(X_train[0])"
   ]
  },
  {
   "cell_type": "code",
   "execution_count": 16,
   "metadata": {},
   "outputs": [
    {
     "name": "stdout",
     "output_type": "stream",
     "text": [
      "Epoch 1/80\n",
      "806/806 [==============================] - 2s 3ms/step - loss: 1.2746 - acc: 0.4913\n",
      "Epoch 2/80\n",
      "806/806 [==============================] - 1s 2ms/step - loss: 1.1486 - acc: 0.5285\n",
      "Epoch 3/80\n",
      "806/806 [==============================] - 2s 2ms/step - loss: 1.1497 - acc: 0.5285\n",
      "Epoch 4/80\n",
      "806/806 [==============================] - 1s 2ms/step - loss: 1.1587 - acc: 0.5285\n",
      "Epoch 5/80\n",
      "806/806 [==============================] - 1s 2ms/step - loss: 1.1454 - acc: 0.5285\n",
      "Epoch 6/80\n",
      "806/806 [==============================] - 1s 2ms/step - loss: 1.1433 - acc: 0.5285\n",
      "Epoch 7/80\n",
      "806/806 [==============================] - 1s 2ms/step - loss: 1.1493 - acc: 0.5285\n",
      "Epoch 8/80\n",
      "806/806 [==============================] - 1s 2ms/step - loss: 1.1522 - acc: 0.5285\n",
      "Epoch 9/80\n",
      "806/806 [==============================] - 1s 2ms/step - loss: 1.1518 - acc: 0.5285\n",
      "Epoch 10/80\n",
      "806/806 [==============================] - 1s 2ms/step - loss: 1.1438 - acc: 0.5285\n",
      "Epoch 11/80\n",
      "806/806 [==============================] - 1s 2ms/step - loss: 1.1387 - acc: 0.5285\n",
      "Epoch 12/80\n",
      "806/806 [==============================] - 1s 2ms/step - loss: 1.1544 - acc: 0.5285\n",
      "Epoch 13/80\n",
      "806/806 [==============================] - 1s 2ms/step - loss: 1.1500 - acc: 0.5285\n",
      "Epoch 14/80\n",
      "806/806 [==============================] - 1s 2ms/step - loss: 1.1390 - acc: 0.5285\n",
      "Epoch 15/80\n",
      "806/806 [==============================] - 1s 2ms/step - loss: 1.1356 - acc: 0.5285\n",
      "Epoch 16/80\n",
      "806/806 [==============================] - 1s 2ms/step - loss: 1.1273 - acc: 0.5285\n",
      "Epoch 17/80\n",
      "806/806 [==============================] - 1s 2ms/step - loss: 1.0872 - acc: 0.5236\n",
      "Epoch 18/80\n",
      "806/806 [==============================] - 1s 2ms/step - loss: 1.0209 - acc: 0.5645\n",
      "Epoch 19/80\n",
      "806/806 [==============================] - 1s 2ms/step - loss: 0.8162 - acc: 0.6935\n",
      "Epoch 20/80\n",
      "806/806 [==============================] - 1s 2ms/step - loss: 0.8922 - acc: 0.6266\n",
      "Epoch 21/80\n",
      "806/806 [==============================] - 1s 2ms/step - loss: 0.7174 - acc: 0.7357\n",
      "Epoch 22/80\n",
      "806/806 [==============================] - 1s 2ms/step - loss: 0.6396 - acc: 0.7593\n",
      "Epoch 23/80\n",
      "806/806 [==============================] - 1s 2ms/step - loss: 0.5873 - acc: 0.7854\n",
      "Epoch 24/80\n",
      "806/806 [==============================] - 1s 2ms/step - loss: 0.4812 - acc: 0.8412\n",
      "Epoch 25/80\n",
      "806/806 [==============================] - 1s 2ms/step - loss: 0.5593 - acc: 0.8077\n",
      "Epoch 26/80\n",
      "806/806 [==============================] - 1s 2ms/step - loss: 0.4765 - acc: 0.8201\n",
      "Epoch 27/80\n",
      "806/806 [==============================] - 2s 2ms/step - loss: 0.3667 - acc: 0.8685\n",
      "Epoch 28/80\n",
      "806/806 [==============================] - 1s 2ms/step - loss: 0.3522 - acc: 0.8685\n",
      "Epoch 29/80\n",
      "806/806 [==============================] - 1s 2ms/step - loss: 0.3032 - acc: 0.8821\n",
      "Epoch 30/80\n",
      "806/806 [==============================] - 2s 2ms/step - loss: 0.2902 - acc: 0.8821\n",
      "Epoch 31/80\n",
      "806/806 [==============================] - 1s 2ms/step - loss: 0.2828 - acc: 0.8710\n",
      "Epoch 32/80\n",
      "806/806 [==============================] - 2s 2ms/step - loss: 0.2830 - acc: 0.8859\n",
      "Epoch 33/80\n",
      "806/806 [==============================] - 1s 2ms/step - loss: 0.2595 - acc: 0.8958\n",
      "Epoch 34/80\n",
      "806/806 [==============================] - 1s 2ms/step - loss: 0.2705 - acc: 0.9007\n",
      "Epoch 35/80\n",
      "806/806 [==============================] - 2s 2ms/step - loss: 0.2442 - acc: 0.8859\n",
      "Epoch 36/80\n",
      "806/806 [==============================] - 2s 2ms/step - loss: 0.1970 - acc: 0.9280\n",
      "Epoch 37/80\n",
      "806/806 [==============================] - 2s 2ms/step - loss: 0.2007 - acc: 0.9305\n",
      "Epoch 38/80\n",
      "806/806 [==============================] - 2s 2ms/step - loss: 0.1545 - acc: 0.9454\n",
      "Epoch 39/80\n",
      "806/806 [==============================] - 2s 2ms/step - loss: 0.1337 - acc: 0.9591\n",
      "Epoch 40/80\n",
      "806/806 [==============================] - 2s 2ms/step - loss: 0.1401 - acc: 0.9591\n",
      "Epoch 41/80\n",
      "806/806 [==============================] - 1s 2ms/step - loss: 0.1137 - acc: 0.9653\n",
      "Epoch 42/80\n",
      "806/806 [==============================] - 1s 2ms/step - loss: 0.1207 - acc: 0.9677\n",
      "Epoch 43/80\n",
      "806/806 [==============================] - 2s 2ms/step - loss: 0.1051 - acc: 0.9702\n",
      "Epoch 44/80\n",
      "806/806 [==============================] - 1s 2ms/step - loss: 0.1211 - acc: 0.9653\n",
      "Epoch 45/80\n",
      "806/806 [==============================] - 2s 2ms/step - loss: 0.1156 - acc: 0.9690\n",
      "Epoch 46/80\n",
      "806/806 [==============================] - 2s 2ms/step - loss: 0.2138 - acc: 0.9429\n",
      "Epoch 47/80\n",
      "806/806 [==============================] - 1s 2ms/step - loss: 0.1273 - acc: 0.9653\n",
      "Epoch 48/80\n",
      "806/806 [==============================] - 1s 2ms/step - loss: 0.0955 - acc: 0.9739\n",
      "Epoch 49/80\n",
      "806/806 [==============================] - 1s 2ms/step - loss: 0.1546 - acc: 0.9553\n",
      "Epoch 50/80\n",
      "806/806 [==============================] - 2s 2ms/step - loss: 0.1423 - acc: 0.9591\n",
      "Epoch 51/80\n",
      "806/806 [==============================] - 2s 2ms/step - loss: 0.1227 - acc: 0.9665\n",
      "Epoch 52/80\n",
      "806/806 [==============================] - 941s 1s/step - loss: 0.0883 - acc: 0.9752\n",
      "Epoch 53/80\n",
      "806/806 [==============================] - 2s 2ms/step - loss: 0.0971 - acc: 0.9727\n",
      "Epoch 54/80\n",
      "806/806 [==============================] - 2s 2ms/step - loss: 0.1193 - acc: 0.9727\n",
      "Epoch 55/80\n",
      "806/806 [==============================] - 1s 2ms/step - loss: 0.0872 - acc: 0.9777\n",
      "Epoch 56/80\n",
      "806/806 [==============================] - 2s 2ms/step - loss: 0.0934 - acc: 0.9752\n",
      "Epoch 57/80\n",
      "806/806 [==============================] - 2s 2ms/step - loss: 0.0754 - acc: 0.9801\n",
      "Epoch 58/80\n",
      "806/806 [==============================] - 2s 2ms/step - loss: 0.0941 - acc: 0.9690\n",
      "Epoch 59/80\n",
      "806/806 [==============================] - 2s 2ms/step - loss: 0.1853 - acc: 0.9516\n",
      "Epoch 60/80\n",
      "806/806 [==============================] - 1s 2ms/step - loss: 0.2252 - acc: 0.9392\n",
      "Epoch 61/80\n",
      "806/806 [==============================] - 1s 2ms/step - loss: 0.1327 - acc: 0.9640\n",
      "Epoch 62/80\n",
      "806/806 [==============================] - 1s 2ms/step - loss: 0.0883 - acc: 0.9777\n",
      "Epoch 63/80\n",
      "806/806 [==============================] - 1s 2ms/step - loss: 0.0751 - acc: 0.9789\n",
      "Epoch 64/80\n",
      "806/806 [==============================] - 1s 2ms/step - loss: 0.1348 - acc: 0.9665\n",
      "Epoch 65/80\n",
      "806/806 [==============================] - 1s 2ms/step - loss: 0.1488 - acc: 0.9553\n",
      "Epoch 66/80\n",
      "806/806 [==============================] - 1s 2ms/step - loss: 0.1483 - acc: 0.9566\n",
      "Epoch 67/80\n",
      "806/806 [==============================] - 1s 2ms/step - loss: 0.0928 - acc: 0.9789\n",
      "Epoch 68/80\n",
      "806/806 [==============================] - 1s 2ms/step - loss: 0.0682 - acc: 0.9851\n",
      "Epoch 69/80\n",
      "806/806 [==============================] - 1s 2ms/step - loss: 0.0711 - acc: 0.9826\n",
      "Epoch 70/80\n",
      "806/806 [==============================] - 1s 2ms/step - loss: 0.0507 - acc: 0.9876\n",
      "Epoch 71/80\n",
      "806/806 [==============================] - 1s 2ms/step - loss: 0.0688 - acc: 0.9826\n",
      "Epoch 72/80\n",
      "806/806 [==============================] - 1s 2ms/step - loss: 0.0612 - acc: 0.9839\n",
      "Epoch 73/80\n",
      "806/806 [==============================] - 1s 2ms/step - loss: 0.0649 - acc: 0.9801\n",
      "Epoch 74/80\n",
      "806/806 [==============================] - 1s 2ms/step - loss: 0.0704 - acc: 0.9814\n",
      "Epoch 75/80\n",
      "806/806 [==============================] - 1s 2ms/step - loss: 0.2898 - acc: 0.9132\n",
      "Epoch 76/80\n",
      "806/806 [==============================] - 1s 2ms/step - loss: 0.1517 - acc: 0.9628\n",
      "Epoch 77/80\n",
      "806/806 [==============================] - 1s 2ms/step - loss: 0.1328 - acc: 0.9702\n",
      "Epoch 78/80\n",
      "806/806 [==============================] - 1s 2ms/step - loss: 0.0757 - acc: 0.9839\n",
      "Epoch 79/80\n",
      "806/806 [==============================] - 2s 2ms/step - loss: 0.0775 - acc: 0.9814\n",
      "Epoch 80/80\n",
      "806/806 [==============================] - 2s 2ms/step - loss: 0.0539 - acc: 0.9864\n"
     ]
    },
    {
     "data": {
      "text/plain": [
       "<keras.callbacks.History at 0x7f74d44488d0>"
      ]
     },
     "execution_count": 16,
     "metadata": {},
     "output_type": "execute_result"
    }
   ],
   "source": [
    "from keras.models import Sequential\n",
    "from keras.layers import Dense, Flatten, LSTM, SpatialDropout1D\n",
    "from keras.layers.embeddings import Embedding\n",
    "\n",
    "embed_dim = 128\n",
    "lstm_out = 196\n",
    "\n",
    "model = Sequential()\n",
    "model.add(Embedding(nb_words, embed_dim,input_length =input_l))\n",
    "model.add(SpatialDropout1D(0.4))\n",
    "model.add(LSTM(lstm_out, dropout=0.2, recurrent_dropout=0.2))\n",
    "model.add(Dense(4,activation='softmax'))\n",
    "model.compile(loss = 'categorical_crossentropy', optimizer='adam',metrics = ['accuracy'])\n",
    "# print(model.summary())\n",
    "# compile the model\n",
    "\n",
    "# model.compile(optimizer='adam', loss='binary_crossentropy', metrics=['acc'])\n",
    "# print(model.summary())\n",
    "batch = 100\n",
    "model.fit(X_train, Y_train, epochs=80, batch_size=batch, verbose=1)"
   ]
  },
  {
   "cell_type": "code",
   "execution_count": 15,
   "metadata": {},
   "outputs": [
    {
     "name": "stdout",
     "output_type": "stream",
     "text": [
      "0.5297029705921023\n"
     ]
    }
   ],
   "source": [
    "loss, accuracy = model.evaluate(X_test, Y_test, verbose=0)\n",
    "# loss, accuracy = model.evaluate(X_train, Y_train)\n",
    "print(accuracy)"
   ]
  },
  {
   "cell_type": "code",
   "execution_count": 9,
   "metadata": {},
   "outputs": [
    {
     "name": "stdout",
     "output_type": "stream",
     "text": [
      "tweet is evaluated neg\n"
     ]
    }
   ],
   "source": [
    "test = \"Aux chiottes macron tu as fais du mal aux gilets jaunes\"\n",
    "\n",
    "test_vect = vectorize_tweet(test, \"pos\", bow, input_l)\n",
    "v = np.array(test_vect['vectorized'])\n",
    "v = v.reshape((1,input_l))\n",
    "\n",
    "res = model.predict([v])[0]\n",
    "out = decode_output(res)\n",
    "print(\"tweet is evaluated \" + out[0])"
   ]
  },
  {
   "cell_type": "code",
   "execution_count": 10,
   "metadata": {},
   "outputs": [
    {
     "name": "stdout",
     "output_type": "stream",
     "text": [
      "['revoir les taux votes par csp niveau revenu lors des législatives tant que les classesmoyennes sup sont pas lessivées comme les gilets jaunes par macron président des ultras riches lrem sera devant attendre ans désindexation retraite ', 'vous êtes une grande naïveté monsieur ensorcelé par gourou soudaine empathie pour ceux qui sont rien vous surprend pas cette période approchant les élections européennes macron essaie soigner son image arrogant hors sol ', 'macron fera jamais rien qui puisse choquer les musulmans les islamistes car est une part importante son électorat trahison ', 'dictature régime politique dans lequel tous les pouvoirs sont entre les mains une seule personne oui effectivement macron est pas seul ceux qui ont intérêt que reste comme aide bcp vrai décide pas chose ', 'affaire macron benalla réponse nos détracteurs via ', 'est macron qui est complice pire', 'bref jsuis vener cause vos histoires plus macron fait des bottle flip pendant que samedi peux plus sortir chez moi parce que plus bus cause des gilets jaunes ', 'vision européenne macron est celle balladur bref ump chez mais après les élections une fois pouvoir frexit', 'emmanuel macron veut instaurer une fiscalité taxe carbone liée aux cours mondiaux ', 'derrière les soutiens mlp surtout ceux qui appartiennent milieu journalistique général est pour sauver macron nous connaissons maintenant stratégie des médias ']\n"
     ]
    }
   ],
   "source": [
    "from parse import sample_data\n",
    "testset = sample_data(\"tw_db_prepared.data\", 10)\n",
    "print(testset)"
   ]
  },
  {
   "cell_type": "code",
   "execution_count": 11,
   "metadata": {},
   "outputs": [
    {
     "name": "stdout",
     "output_type": "stream",
     "text": [
      "revoir les taux votes par csp niveau revenu lors des législatives tant que les classesmoyennes sup sont pas lessivées comme les gilets jaunes par macron président des ultras riches lrem sera devant attendre ans désindexation retraite \n",
      "tweet is evaluated neg\n",
      "\n",
      "\n",
      "vous êtes une grande naïveté monsieur ensorcelé par gourou soudaine empathie pour ceux qui sont rien vous surprend pas cette période approchant les élections européennes macron essaie soigner son image arrogant hors sol \n",
      "tweet is evaluated neg\n",
      "\n",
      "\n",
      "macron fera jamais rien qui puisse choquer les musulmans les islamistes car est une part importante son électorat trahison \n",
      "tweet is evaluated neg\n",
      "\n",
      "\n",
      "dictature régime politique dans lequel tous les pouvoirs sont entre les mains une seule personne oui effectivement macron est pas seul ceux qui ont intérêt que reste comme aide bcp vrai décide pas chose \n",
      "tweet is evaluated neg\n",
      "\n",
      "\n",
      "affaire macron benalla réponse nos détracteurs via \n",
      "tweet is evaluated neu\n",
      "\n",
      "\n",
      "est macron qui est complice pire\n",
      "tweet is evaluated neg\n",
      "\n",
      "\n",
      "bref jsuis vener cause vos histoires plus macron fait des bottle flip pendant que samedi peux plus sortir chez moi parce que plus bus cause des gilets jaunes \n",
      "tweet is evaluated neg\n",
      "\n",
      "\n",
      "vision européenne macron est celle balladur bref ump chez mais après les élections une fois pouvoir frexit\n",
      "tweet is evaluated neu\n",
      "\n",
      "\n",
      "emmanuel macron veut instaurer une fiscalité taxe carbone liée aux cours mondiaux \n",
      "tweet is evaluated neu\n",
      "\n",
      "\n",
      "derrière les soutiens mlp surtout ceux qui appartiennent milieu journalistique général est pour sauver macron nous connaissons maintenant stratégie des médias \n",
      "tweet is evaluated neg\n",
      "\n",
      "\n"
     ]
    }
   ],
   "source": [
    "for tw in testset :\n",
    "    vec = vectorize_tweet(tw,'???', bow, input_l)\n",
    "    print(vec['text'])\n",
    "    res = model.predict(vec['vectorized'].reshape((1,input_l)))[0]\n",
    "    out = decode_output(res)\n",
    "    print(\"tweet is evaluated \" + out[0] + \"\\n\\n\")"
   ]
  },
  {
   "cell_type": "code",
   "execution_count": null,
   "metadata": {},
   "outputs": [],
   "source": []
  },
  {
   "cell_type": "code",
   "execution_count": null,
   "metadata": {},
   "outputs": [],
   "source": []
  }
 ],
 "metadata": {
  "kernelspec": {
   "display_name": "env",
   "language": "python",
   "name": "env"
  },
  "language_info": {
   "codemirror_mode": {
    "name": "ipython",
    "version": 3
   },
   "file_extension": ".py",
   "mimetype": "text/x-python",
   "name": "python",
   "nbconvert_exporter": "python",
   "pygments_lexer": "ipython3",
   "version": "3.6.7"
  }
 },
 "nbformat": 4,
 "nbformat_minor": 2
}
