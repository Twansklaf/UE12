{
 "cells": [
  {
   "cell_type": "code",
   "execution_count": 3,
   "metadata": {},
   "outputs": [],
   "source": [
    "data = \"(1100731409243824128,???,collected by group 5)Prix des carburants :  Macron va-t-il s’inspirer de Jospin avec la taxation volante pour résoudre la crise ?https://t.co/ykVjFYSf9eEnvoyé via @updayFR\""
   ]
  },
  {
   "cell_type": "code",
   "execution_count": 4,
   "metadata": {},
   "outputs": [
    {
     "data": {
      "text/plain": [
       "'(1100731409243824128,???,collected by group 5)Prix des carburants :  Macron va-t-il s’inspirer de Jospin avec la taxation volante pour résoudre la crise ?https://t.co/ykVjFYSf9eEnvoyé via @updayFR'"
      ]
     },
     "execution_count": 4,
     "metadata": {},
     "output_type": "execute_result"
    }
   ],
   "source": [
    "data"
   ]
  },
  {
   "cell_type": "code",
   "execution_count": 5,
   "metadata": {},
   "outputs": [
    {
     "name": "stdout",
     "output_type": "stream",
     "text": [
      "(1100731409243824128,???,collected by group 5)Prix des carburants :  Macron va-t-il s’inspirer de Jospin avec la taxation volante pour résoudre la crise ?Envoyé via @updayFR\n"
     ]
    }
   ],
   "source": [
    "import re\n",
    "data2 = re.sub(r'https://t.co/\\w{10}', '', data)\n",
    "print(data2)"
   ]
  },
  {
   "cell_type": "code",
   "execution_count": 6,
   "metadata": {},
   "outputs": [
    {
     "name": "stdout",
     "output_type": "stream",
     "text": [
      "['', 'la', 'gilet', '', '']\n"
     ]
    }
   ],
   "source": [
    "string = \" la gilet  \"\n",
    "print(string.split(\" \"))"
   ]
  },
  {
   "cell_type": "code",
   "execution_count": null,
   "metadata": {},
   "outputs": [],
   "source": []
  }
 ],
 "metadata": {
  "kernelspec": {
   "display_name": "env",
   "language": "python",
   "name": "env"
  },
  "language_info": {
   "codemirror_mode": {
    "name": "ipython",
    "version": 3
   },
   "file_extension": ".py",
   "mimetype": "text/x-python",
   "name": "python",
   "nbconvert_exporter": "python",
   "pygments_lexer": "ipython3",
   "version": "3.6.7"
  }
 },
 "nbformat": 4,
 "nbformat_minor": 2
}
