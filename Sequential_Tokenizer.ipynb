{
 "cells": [
  {
   "cell_type": "code",
   "execution_count": 21,
   "metadata": {},
   "outputs": [],
   "source": [
    "from parse import get_data\n",
    "import pandas as pd\n",
    "from keras.preprocessing.text import Tokenizer\n",
    "from keras.preprocessing.sequence import pad_sequences\n",
    "from keras.models import Sequential"
   ]
  },
  {
   "cell_type": "code",
   "execution_count": 22,
   "metadata": {},
   "outputs": [
    {
     "name": "stdout",
     "output_type": "stream",
     "text": [
      "4998\n"
     ]
    }
   ],
   "source": [
    "train, labels = get_data(\"data/corpus.data\")\n",
    "nb_of_entries = len(train)\n",
    "print(nb_of_entries)\n",
    "\n",
    "df = pd.DataFrame({'Text' : train, 'Tag': labels})\n",
    "\n",
    "max_features = 100000\n",
    "tk = Tokenizer(num_words=max_features, split=' ')\n",
    "tk.fit_on_texts(df['Text'].values)\n",
    "X = tk.texts_to_sequences(df['Text'].values)\n",
    "# print(X)\n",
    "X = pad_sequences(X)\n",
    "Y = pd.get_dummies(df['Tag']).values\n",
    "maxlength = X.shape[1]\n",
    "# print(type(maxlength))\n"
   ]
  },
  {
   "cell_type": "code",
   "execution_count": 25,
   "metadata": {},
   "outputs": [
    {
     "name": "stdout",
     "output_type": "stream",
     "text": [
      "train set length :  3998 , test set length :  1000\n"
     ]
    }
   ],
   "source": [
    "percentage_train = 0.8\n",
    "borne = int(percentage_train*len(train))\n",
    "X_train = X[:borne]\n",
    "Y_train = Y[:borne]\n",
    "X_test = X[borne:]\n",
    "Y_test = Y[borne:]\n",
    "print(\"train set length : \",len(X_train), \", test set length : \",len(X_test))"
   ]
  },
  {
   "cell_type": "code",
   "execution_count": 30,
   "metadata": {},
   "outputs": [
    {
     "name": "stdout",
     "output_type": "stream",
     "text": [
      "Epoch 1/25\n",
      "3998/3998 [==============================] - 2s 455us/step - loss: 0.5457 - acc: 0.7481\n",
      "Epoch 2/25\n",
      "3998/3998 [==============================] - 2s 436us/step - loss: 0.4441 - acc: 0.7985\n",
      "Epoch 3/25\n",
      "3998/3998 [==============================] - 2s 422us/step - loss: 0.4083 - acc: 0.8226\n",
      "Epoch 4/25\n",
      "3998/3998 [==============================] - 2s 408us/step - loss: 0.3689 - acc: 0.8448\n",
      "Epoch 5/25\n",
      "3998/3998 [==============================] - 2s 404us/step - loss: 0.3318 - acc: 0.8667\n",
      "Epoch 6/25\n",
      "3998/3998 [==============================] - 2s 475us/step - loss: 0.2956 - acc: 0.8893\n",
      "Epoch 7/25\n",
      "3998/3998 [==============================] - 2s 396us/step - loss: 0.2609 - acc: 0.9085\n",
      "Epoch 8/25\n",
      "3998/3998 [==============================] - 1s 360us/step - loss: 0.2290 - acc: 0.9248\n",
      "Epoch 9/25\n",
      "3998/3998 [==============================] - 1s 324us/step - loss: 0.2006 - acc: 0.9383\n",
      "Epoch 10/25\n",
      "3998/3998 [==============================] - 1s 325us/step - loss: 0.1761 - acc: 0.9462\n",
      "Epoch 11/25\n",
      "3998/3998 [==============================] - 1s 330us/step - loss: 0.1550 - acc: 0.9546\n",
      "Epoch 12/25\n",
      "3998/3998 [==============================] - 1s 341us/step - loss: 0.1368 - acc: 0.9622\n",
      "Epoch 13/25\n",
      "3998/3998 [==============================] - 1s 328us/step - loss: 0.1215 - acc: 0.9674\n",
      "Epoch 14/25\n",
      "3998/3998 [==============================] - 2s 382us/step - loss: 0.1081 - acc: 0.9709\n",
      "Epoch 15/25\n",
      "3998/3998 [==============================] - 2s 451us/step - loss: 0.0966 - acc: 0.9749\n",
      "Epoch 16/25\n",
      "3998/3998 [==============================] - 2s 427us/step - loss: 0.0868 - acc: 0.9777\n",
      "Epoch 17/25\n",
      "3998/3998 [==============================] - 2s 446us/step - loss: 0.0783 - acc: 0.9805\n",
      "Epoch 18/25\n",
      "3998/3998 [==============================] - 2s 475us/step - loss: 0.0710 - acc: 0.9827\n",
      "Epoch 19/25\n",
      "3998/3998 [==============================] - 2s 440us/step - loss: 0.0646 - acc: 0.9846\n",
      "Epoch 20/25\n",
      "3998/3998 [==============================] - 2s 429us/step - loss: 0.0589 - acc: 0.9861\n",
      "Epoch 21/25\n",
      "3998/3998 [==============================] - 2s 379us/step - loss: 0.0540 - acc: 0.9876\n",
      "Epoch 22/25\n",
      "3998/3998 [==============================] - 2s 420us/step - loss: 0.0498 - acc: 0.9877\n",
      "Epoch 23/25\n",
      "3998/3998 [==============================] - 1s 371us/step - loss: 0.0460 - acc: 0.9887\n",
      "Epoch 24/25\n",
      "3998/3998 [==============================] - 1s 374us/step - loss: 0.0425 - acc: 0.9901\n",
      "Epoch 25/25\n",
      "3998/3998 [==============================] - 1s 367us/step - loss: 0.0396 - acc: 0.9907\n"
     ]
    },
    {
     "data": {
      "text/plain": [
       "<keras.callbacks.History at 0x7f8d10155c50>"
      ]
     },
     "execution_count": 30,
     "metadata": {},
     "output_type": "execute_result"
    }
   ],
   "source": [
    "from keras.models import Sequential\n",
    "from keras.layers import Dense, Flatten\n",
    "from keras.layers.embeddings import Embedding\n",
    "\n",
    "# define the model\n",
    "model = Sequential()\n",
    "model.add(Embedding(input_dim=max_features, output_dim=8, input_length=maxlength))\n",
    "model.add(Flatten())\n",
    "model.add(Dense(4, activation='sigmoid'))\n",
    "\n",
    "# compile the model\n",
    "\n",
    "model.compile(optimizer='adam', loss='binary_crossentropy', metrics=['acc'])\n",
    "# print(model.summary())\n",
    "batch = 50\n",
    "model.fit(X_train, Y_train, epochs=25, verbose=1)"
   ]
  },
  {
   "cell_type": "code",
   "execution_count": 31,
   "metadata": {},
   "outputs": [
    {
     "name": "stdout",
     "output_type": "stream",
     "text": [
      "0.802\n"
     ]
    }
   ],
   "source": [
    "loss, accuracy = model.evaluate(X_test, Y_test, verbose=0)\n",
    "# loss, accuracy = model.evaluate(X_train, Y_train)\n",
    "print(accuracy)"
   ]
  },
  {
   "cell_type": "code",
   "execution_count": 32,
   "metadata": {},
   "outputs": [
    {
     "ename": "NameError",
     "evalue": "name 'parse_archive' is not defined",
     "output_type": "error",
     "traceback": [
      "\u001b[0;31m---------------------------------------------------------------------------\u001b[0m",
      "\u001b[0;31mNameError\u001b[0m                                 Traceback (most recent call last)",
      "\u001b[0;32m<ipython-input-32-c9b230acdd86>\u001b[0m in \u001b[0;36m<module>\u001b[0;34m\u001b[0m\n\u001b[0;32m----> 1\u001b[0;31m \u001b[0mtest_f\u001b[0m \u001b[0;34m=\u001b[0m \u001b[0mparse_archive\u001b[0m\u001b[0;34m(\u001b[0m\u001b[0;34m\"test.data\"\u001b[0m\u001b[0;34m)\u001b[0m\u001b[0;34m\u001b[0m\u001b[0;34m\u001b[0m\u001b[0m\n\u001b[0m",
      "\u001b[0;31mNameError\u001b[0m: name 'parse_archive' is not defined"
     ]
    }
   ],
   "source": [
    "test_f = parse_archive(\"test.data\")"
   ]
  },
  {
   "cell_type": "code",
   "execution_count": null,
   "metadata": {},
   "outputs": [],
   "source": []
  },
  {
   "cell_type": "code",
   "execution_count": null,
   "metadata": {},
   "outputs": [],
   "source": []
  },
  {
   "cell_type": "code",
   "execution_count": null,
   "metadata": {},
   "outputs": [],
   "source": []
  },
  {
   "cell_type": "code",
   "execution_count": null,
   "metadata": {},
   "outputs": [],
   "source": []
  }
 ],
 "metadata": {
  "kernelspec": {
   "display_name": "env",
   "language": "python",
   "name": "env"
  },
  "language_info": {
   "codemirror_mode": {
    "name": "ipython",
    "version": 3
   },
   "file_extension": ".py",
   "mimetype": "text/x-python",
   "name": "python",
   "nbconvert_exporter": "python",
   "pygments_lexer": "ipython3",
   "version": "3.6.7"
  }
 },
 "nbformat": 4,
 "nbformat_minor": 2
}
