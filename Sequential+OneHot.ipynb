{
 "cells": [
  {
   "cell_type": "markdown",
   "metadata": {},
   "source": [
    "### Test ML Embeddings"
   ]
  },
  {
   "cell_type": "code",
   "execution_count": 1,
   "metadata": {},
   "outputs": [
    {
     "name": "stdout",
     "output_type": "stream",
     "text": [
      "size of train data :  4998\n"
     ]
    },
    {
     "name": "stderr",
     "output_type": "stream",
     "text": [
      "Using TensorFlow backend.\n"
     ]
    }
   ],
   "source": [
    "from parse import get_data\n",
    "import pandas as pd\n",
    "import numpy as np\n",
    "\n",
    "########################### EXTRACT DATA\n",
    "\n",
    "def convert_labels(l) :\n",
    "    if l == 'irr' :\n",
    "        return [1, 0, 0, 0]\n",
    "    elif l == 'neg' :\n",
    "        return [0, 1, 0, 0]\n",
    "    elif l == 'neu' :\n",
    "        return [0, 0, 1, 0]\n",
    "    else :\n",
    "        return [0, 0, 0, 1]\n",
    "    \n",
    "def decode_output(out_array) :\n",
    "    if out_array[0] == np.max(out_array) :\n",
    "        return \"irr\", np.max(out_array)\n",
    "    elif out_array[1] == np.max(out_array) :\n",
    "        return \"neg\", np.max(out_array)\n",
    "    elif out_array[2] == np.max(out_array) :\n",
    "        return \"neu\",np.max(out_array)\n",
    "    elif out_array[3] == np.max(out_array) :\n",
    "        return \"pos\",np.max(out_array)\n",
    "    else :\n",
    "        return \"err\",0\n",
    "\n",
    "# text, label = get_data(\"corpus_ready.data\")\n",
    "text, label = get_data(\"data/corpus.data\")\n",
    "labels = [\"irr\", \"neg\", \"neu\", \"pos\"]\n",
    "label_data = np.array([convert_labels(l) for l in label])\n",
    "print(\"size of train data : \", len(text))\n",
    "\n",
    "######################### VECTORIZE DATA\n",
    "\n",
    "from keras.preprocessing.text import one_hot\n",
    "from keras.preprocessing.sequence import pad_sequences\n",
    "from functools import reduce\n",
    "\n",
    "estimated_vocab_size = 2000\n",
    "encoded = [one_hot(t, estimated_vocab_size) for t in text]\n",
    "maxlength = np.max([len(x) for x in encoded])\n",
    "encoded = pad_sequences(encoded, maxlen=maxlength, padding='post')"
   ]
  },
  {
   "cell_type": "code",
   "execution_count": 3,
   "metadata": {},
   "outputs": [
    {
     "name": "stdout",
     "output_type": "stream",
     "text": [
      "train set length :  3998 , test set length :  1000\n"
     ]
    }
   ],
   "source": [
    "percentage_train = 0.8\n",
    "borne = int(percentage_train*len(text))\n",
    "X_train = encoded[:borne]\n",
    "Y_train = label_data[:borne]\n",
    "X_test = encoded[borne:]\n",
    "Y_test = label_data[borne:]\n",
    "print(\"train set length : \",len(X_train), \", test set length : \",len(X_test))"
   ]
  },
  {
   "cell_type": "code",
   "execution_count": 8,
   "metadata": {},
   "outputs": [
    {
     "name": "stdout",
     "output_type": "stream",
     "text": [
      "Epoch 1/80\n",
      "3998/3998 [==============================] - 0s 68us/step - loss: 0.5366 - acc: 0.7541\n",
      "Epoch 2/80\n",
      "3998/3998 [==============================] - 0s 29us/step - loss: 0.4520 - acc: 0.7915\n",
      "Epoch 3/80\n",
      "3998/3998 [==============================] - 0s 35us/step - loss: 0.4231 - acc: 0.8157\n",
      "Epoch 4/80\n",
      "3998/3998 [==============================] - 0s 33us/step - loss: 0.3924 - acc: 0.8334\n",
      "Epoch 5/80\n",
      "3998/3998 [==============================] - 0s 33us/step - loss: 0.3682 - acc: 0.8463\n",
      "Epoch 6/80\n",
      "3998/3998 [==============================] - 0s 32us/step - loss: 0.3475 - acc: 0.8585\n",
      "Epoch 7/80\n",
      "3998/3998 [==============================] - 0s 31us/step - loss: 0.3288 - acc: 0.8675\n",
      "Epoch 8/80\n",
      "3998/3998 [==============================] - 0s 32us/step - loss: 0.3105 - acc: 0.8742\n",
      "Epoch 9/80\n",
      "3998/3998 [==============================] - 0s 33us/step - loss: 0.2936 - acc: 0.8856\n",
      "Epoch 10/80\n",
      "3998/3998 [==============================] - 0s 35us/step - loss: 0.2769 - acc: 0.8902\n",
      "Epoch 11/80\n",
      "3998/3998 [==============================] - 0s 77us/step - loss: 0.2607 - acc: 0.9002\n",
      "Epoch 12/80\n",
      "3998/3998 [==============================] - 0s 35us/step - loss: 0.2459 - acc: 0.9074\n",
      "Epoch 13/80\n",
      "3998/3998 [==============================] - 0s 31us/step - loss: 0.2315 - acc: 0.9150\n",
      "Epoch 14/80\n",
      "3998/3998 [==============================] - 0s 33us/step - loss: 0.2181 - acc: 0.9207\n",
      "Epoch 15/80\n",
      "3998/3998 [==============================] - 0s 32us/step - loss: 0.2053 - acc: 0.9295\n",
      "Epoch 16/80\n",
      "3998/3998 [==============================] - 0s 32us/step - loss: 0.1933 - acc: 0.9335\n",
      "Epoch 17/80\n",
      "3998/3998 [==============================] - 0s 33us/step - loss: 0.1824 - acc: 0.9377\n",
      "Epoch 18/80\n",
      "3998/3998 [==============================] - 0s 33us/step - loss: 0.1716 - acc: 0.9434\n",
      "Epoch 19/80\n",
      "3998/3998 [==============================] - 0s 48us/step - loss: 0.1619 - acc: 0.9485\n",
      "Epoch 20/80\n",
      "3998/3998 [==============================] - 0s 60us/step - loss: 0.1529 - acc: 0.9512\n",
      "Epoch 21/80\n",
      "3998/3998 [==============================] - 0s 34us/step - loss: 0.1442 - acc: 0.9560\n",
      "Epoch 22/80\n",
      "3998/3998 [==============================] - 0s 36us/step - loss: 0.1362 - acc: 0.9587\n",
      "Epoch 23/80\n",
      "3998/3998 [==============================] - 0s 38us/step - loss: 0.1287 - acc: 0.9630\n",
      "Epoch 24/80\n",
      "3998/3998 [==============================] - 0s 65us/step - loss: 0.1218 - acc: 0.9650\n",
      "Epoch 25/80\n",
      "3998/3998 [==============================] - 0s 34us/step - loss: 0.1151 - acc: 0.9673\n",
      "Epoch 26/80\n",
      "3998/3998 [==============================] - 0s 33us/step - loss: 0.1092 - acc: 0.9699\n",
      "Epoch 27/80\n",
      "3998/3998 [==============================] - 0s 33us/step - loss: 0.1034 - acc: 0.9725\n",
      "Epoch 28/80\n",
      "3998/3998 [==============================] - 0s 33us/step - loss: 0.0981 - acc: 0.9737\n",
      "Epoch 29/80\n",
      "3998/3998 [==============================] - 0s 34us/step - loss: 0.0930 - acc: 0.9756\n",
      "Epoch 30/80\n",
      "3998/3998 [==============================] - 0s 36us/step - loss: 0.0884 - acc: 0.9769\n",
      "Epoch 31/80\n",
      "3998/3998 [==============================] - 0s 31us/step - loss: 0.0841 - acc: 0.9791\n",
      "Epoch 32/80\n",
      "3998/3998 [==============================] - 0s 33us/step - loss: 0.0799 - acc: 0.9797\n",
      "Epoch 33/80\n",
      "3998/3998 [==============================] - 0s 32us/step - loss: 0.0761 - acc: 0.9816\n",
      "Epoch 34/80\n",
      "3998/3998 [==============================] - 0s 31us/step - loss: 0.0726 - acc: 0.9829\n",
      "Epoch 35/80\n",
      "3998/3998 [==============================] - 0s 33us/step - loss: 0.0694 - acc: 0.9833\n",
      "Epoch 36/80\n",
      "3998/3998 [==============================] - 0s 33us/step - loss: 0.0663 - acc: 0.9839\n",
      "Epoch 37/80\n",
      "3998/3998 [==============================] - 0s 33us/step - loss: 0.0633 - acc: 0.9846\n",
      "Epoch 38/80\n",
      "3998/3998 [==============================] - 0s 34us/step - loss: 0.0603 - acc: 0.9851\n",
      "Epoch 39/80\n",
      "3998/3998 [==============================] - 0s 33us/step - loss: 0.0576 - acc: 0.9869\n",
      "Epoch 40/80\n",
      "3998/3998 [==============================] - 0s 33us/step - loss: 0.0551 - acc: 0.9869\n",
      "Epoch 41/80\n",
      "3998/3998 [==============================] - 0s 34us/step - loss: 0.0528 - acc: 0.9875\n",
      "Epoch 42/80\n",
      "3998/3998 [==============================] - 0s 33us/step - loss: 0.0508 - acc: 0.9877\n",
      "Epoch 43/80\n",
      "3998/3998 [==============================] - 0s 33us/step - loss: 0.0485 - acc: 0.9882\n",
      "Epoch 44/80\n",
      "3998/3998 [==============================] - 0s 33us/step - loss: 0.0467 - acc: 0.9892\n",
      "Epoch 45/80\n",
      "3998/3998 [==============================] - 0s 33us/step - loss: 0.0448 - acc: 0.9892\n",
      "Epoch 46/80\n",
      "3998/3998 [==============================] - 0s 33us/step - loss: 0.0431 - acc: 0.9894\n",
      "Epoch 47/80\n",
      "3998/3998 [==============================] - 0s 32us/step - loss: 0.0416 - acc: 0.9901\n",
      "Epoch 48/80\n",
      "3998/3998 [==============================] - 0s 34us/step - loss: 0.0400 - acc: 0.9897\n",
      "Epoch 49/80\n",
      "3998/3998 [==============================] - 0s 68us/step - loss: 0.0385 - acc: 0.9906\n",
      "Epoch 50/80\n",
      "3998/3998 [==============================] - 0s 54us/step - loss: 0.0370 - acc: 0.9906\n",
      "Epoch 51/80\n",
      "3998/3998 [==============================] - 0s 37us/step - loss: 0.0358 - acc: 0.9909\n",
      "Epoch 52/80\n",
      "3998/3998 [==============================] - 0s 42us/step - loss: 0.0346 - acc: 0.9912\n",
      "Epoch 53/80\n",
      "3998/3998 [==============================] - 0s 51us/step - loss: 0.0333 - acc: 0.9917\n",
      "Epoch 54/80\n",
      "3998/3998 [==============================] - 0s 36us/step - loss: 0.0324 - acc: 0.9915\n",
      "Epoch 55/80\n",
      "3998/3998 [==============================] - 0s 47us/step - loss: 0.0312 - acc: 0.9917\n",
      "Epoch 56/80\n",
      "3998/3998 [==============================] - 0s 36us/step - loss: 0.0302 - acc: 0.9919\n",
      "Epoch 57/80\n",
      "3998/3998 [==============================] - 0s 34us/step - loss: 0.0293 - acc: 0.9926\n",
      "Epoch 58/80\n",
      "3998/3998 [==============================] - 0s 32us/step - loss: 0.0283 - acc: 0.9928\n",
      "Epoch 59/80\n",
      "3998/3998 [==============================] - 0s 34us/step - loss: 0.0276 - acc: 0.9926\n",
      "Epoch 60/80\n",
      "3998/3998 [==============================] - 0s 32us/step - loss: 0.0266 - acc: 0.9927\n",
      "Epoch 61/80\n",
      "3998/3998 [==============================] - 0s 32us/step - loss: 0.0259 - acc: 0.9931\n",
      "Epoch 62/80\n",
      "3998/3998 [==============================] - 0s 31us/step - loss: 0.0252 - acc: 0.9934\n",
      "Epoch 63/80\n",
      "3998/3998 [==============================] - 0s 33us/step - loss: 0.0245 - acc: 0.9930\n",
      "Epoch 64/80\n",
      "3998/3998 [==============================] - 0s 35us/step - loss: 0.0237 - acc: 0.9934\n",
      "Epoch 65/80\n",
      "3998/3998 [==============================] - 0s 33us/step - loss: 0.0234 - acc: 0.9937\n",
      "Epoch 66/80\n",
      "3998/3998 [==============================] - 0s 32us/step - loss: 0.0227 - acc: 0.9935\n",
      "Epoch 67/80\n",
      "3998/3998 [==============================] - 0s 33us/step - loss: 0.0220 - acc: 0.9937\n",
      "Epoch 68/80\n",
      "3998/3998 [==============================] - 0s 33us/step - loss: 0.0215 - acc: 0.9939\n",
      "Epoch 69/80\n",
      "3998/3998 [==============================] - 0s 32us/step - loss: 0.0209 - acc: 0.9939\n",
      "Epoch 70/80\n",
      "3998/3998 [==============================] - 0s 34us/step - loss: 0.0205 - acc: 0.9942\n",
      "Epoch 71/80\n",
      "3998/3998 [==============================] - 0s 33us/step - loss: 0.0201 - acc: 0.9942\n",
      "Epoch 72/80\n",
      "3998/3998 [==============================] - 0s 60us/step - loss: 0.0195 - acc: 0.9940\n",
      "Epoch 73/80\n",
      "3998/3998 [==============================] - 0s 47us/step - loss: 0.0191 - acc: 0.9942\n",
      "Epoch 74/80\n",
      "3998/3998 [==============================] - 0s 33us/step - loss: 0.0188 - acc: 0.9942\n",
      "Epoch 75/80\n",
      "3998/3998 [==============================] - 0s 40us/step - loss: 0.0182 - acc: 0.9943\n",
      "Epoch 76/80\n",
      "3998/3998 [==============================] - 0s 60us/step - loss: 0.0179 - acc: 0.9946\n",
      "Epoch 77/80\n",
      "3998/3998 [==============================] - 0s 42us/step - loss: 0.0177 - acc: 0.9944\n",
      "Epoch 78/80\n",
      "3998/3998 [==============================] - 0s 36us/step - loss: 0.0172 - acc: 0.9944\n",
      "Epoch 79/80\n",
      "3998/3998 [==============================] - 0s 34us/step - loss: 0.0169 - acc: 0.9943\n",
      "Epoch 80/80\n",
      "3998/3998 [==============================] - 0s 34us/step - loss: 0.0166 - acc: 0.9946\n"
     ]
    },
    {
     "data": {
      "text/plain": [
       "<keras.callbacks.History at 0x7f9b94203470>"
      ]
     },
     "execution_count": 8,
     "metadata": {},
     "output_type": "execute_result"
    }
   ],
   "source": [
    "from keras.models import Sequential\n",
    "from keras.layers import Dense, Flatten\n",
    "from keras.layers.embeddings import Embedding\n",
    "\n",
    "# define the model\n",
    "model = Sequential()\n",
    "model.add(Embedding(input_dim=estimated_vocab_size, output_dim=8, input_length=maxlength))\n",
    "model.add(Flatten())\n",
    "model.add(Dense(4, activation='sigmoid'))\n",
    "\n",
    "# compile the model\n",
    "\n",
    "model.compile(optimizer='adam', loss='binary_crossentropy', metrics=['acc'])\n",
    "# print(model.summary())\n",
    "batch = 50\n",
    "model.fit(X_train, Y_train, epochs=80, verbose=1)"
   ]
  },
  {
   "cell_type": "code",
   "execution_count": 9,
   "metadata": {},
   "outputs": [
    {
     "name": "stdout",
     "output_type": "stream",
     "text": [
      "0.7785\n"
     ]
    }
   ],
   "source": [
    "loss, accuracy = model.evaluate(X_test, Y_test, verbose=0)\n",
    "# loss, accuracy = model.evaluate(X_train, Y_train)\n",
    "print(accuracy)"
   ]
  },
  {
   "cell_type": "code",
   "execution_count": 14,
   "metadata": {},
   "outputs": [
    {
     "name": "stdout",
     "output_type": "stream",
     "text": [
      "<class 'numpy.ndarray'>\n",
      "[[1274 1203 1134 1388 1519  974 1039 1652    0    0    0    0    0    0\n",
      "     0    0    0    0    0    0    0    0    0    0    0    0    0    0\n",
      "     0    0    0    0    0    0    0    0    0    0    0    0    0    0\n",
      "     0    0    0    0    0    0]]\n"
     ]
    },
    {
     "data": {
      "text/plain": [
       "('neg', 0.23821595)"
      ]
     },
     "execution_count": 14,
     "metadata": {},
     "output_type": "execute_result"
    }
   ],
   "source": [
    "test = \"Macron est un mauvais président bordel gilet jaunes\"\n",
    "test_oh = [one_hot(test, estimated_vocab_size)]\n",
    "test_oh = pad_sequences(test_oh, maxlen=maxlength, padding='post')\n",
    "print(type(test_oh))\n",
    "print(test_oh)\n",
    "out = list(model.predict(test_oh)[0])\n",
    "decode_output(out)\n",
    "# print(\"tweet is evaluated \" + out[0] + \" at \" + str(out[1]) + \"%\")"
   ]
  },
  {
   "cell_type": "code",
   "execution_count": null,
   "metadata": {},
   "outputs": [],
   "source": []
  },
  {
   "cell_type": "code",
   "execution_count": null,
   "metadata": {},
   "outputs": [],
   "source": []
  }
 ],
 "metadata": {
  "kernelspec": {
   "display_name": "env",
   "language": "python",
   "name": "env"
  },
  "language_info": {
   "codemirror_mode": {
    "name": "ipython",
    "version": 3
   },
   "file_extension": ".py",
   "mimetype": "text/x-python",
   "name": "python",
   "nbconvert_exporter": "python",
   "pygments_lexer": "ipython3",
   "version": "3.6.7"
  }
 },
 "nbformat": 4,
 "nbformat_minor": 2
}
