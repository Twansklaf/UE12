{
 "cells": [
  {
   "cell_type": "markdown",
   "metadata": {},
   "source": [
    "### Test ML Embeddings"
   ]
  },
  {
   "cell_type": "code",
   "execution_count": 10,
   "metadata": {},
   "outputs": [
    {
     "name": "stdout",
     "output_type": "stream",
     "text": [
      "size of train data :  2754\n"
     ]
    }
   ],
   "source": [
    "from parse import get_data\n",
    "import pandas as pd\n",
    "import numpy as np\n",
    "\n",
    "########################### EXTRACT DATA\n",
    "\n",
    "def convert_labels(l) :\n",
    "    if l == 'irr' :\n",
    "        return [1, 0, 0, 0]\n",
    "    elif l == 'neg' :\n",
    "        return [0, 1, 0, 0]\n",
    "    elif l == 'neu' :\n",
    "        return [0, 0, 1, 0]\n",
    "    else :\n",
    "        return [0, 0, 0, 1]\n",
    "    \n",
    "def decode_output(out_array) :\n",
    "    if out_array[0] == np.max(out_array) :\n",
    "        return \"irr\", np.max(out_array)\n",
    "    elif out_array[1] == np.max(out_array) :\n",
    "        return \"neg\", np.max(out_array)\n",
    "    elif out_array[2] == np.max(out_array) :\n",
    "        return \"neu\",np.max(out_array)\n",
    "    elif out_array[3] == np.max(out_array) :\n",
    "        return \"pos\",np.max(out_array)\n",
    "    else :\n",
    "        return \"err\",0\n",
    "\n",
    "text, label = get_data(\"corpus_ready.data\")\n",
    "labels = [\"irr\", \"neg\", \"neu\", \"pos\"]\n",
    "label_data = np.array([convert_labels(l) for l in label])\n",
    "print(\"size of train data : \", len(text))\n",
    "\n",
    "######################### VECTORIZE DATA\n",
    "\n",
    "from keras.preprocessing.text import one_hot\n",
    "from keras.preprocessing.sequence import pad_sequences\n",
    "from functools import reduce\n",
    "\n",
    "estimated_vocab_size = 2000\n",
    "encoded = [one_hot(t, estimated_vocab_size) for t in text]\n",
    "maxlength = np.max([len(x) for x in encoded])\n",
    "encoded = pad_sequences(encoded, maxlen=maxlength, padding='post')"
   ]
  },
  {
   "cell_type": "code",
   "execution_count": 11,
   "metadata": {},
   "outputs": [],
   "source": [
    "percentage_train = 1\n",
    "borne = int(percentage_train*len(text))\n",
    "X_train = encoded[:borne]\n",
    "Y_train = label_data[:borne]\n",
    "X_test = encoded[borne:]\n",
    "Y_test = label_data[borne:]"
   ]
  },
  {
   "cell_type": "code",
   "execution_count": 13,
   "metadata": {},
   "outputs": [
    {
     "name": "stdout",
     "output_type": "stream",
     "text": [
      "Epoch 1/50\n",
      "2754/2754 [==============================] - 0s 84us/step - loss: 0.5374 - acc: 0.7698\n",
      "Epoch 2/50\n",
      "2754/2754 [==============================] - 0s 43us/step - loss: 0.4490 - acc: 0.7899\n",
      "Epoch 3/50\n",
      "2754/2754 [==============================] - 0s 32us/step - loss: 0.4324 - acc: 0.8047\n",
      "Epoch 4/50\n",
      "2754/2754 [==============================] - 0s 39us/step - loss: 0.4106 - acc: 0.8255\n",
      "Epoch 5/50\n",
      "2754/2754 [==============================] - 0s 34us/step - loss: 0.3862 - acc: 0.8375\n",
      "Epoch 6/50\n",
      "2754/2754 [==============================] - 0s 35us/step - loss: 0.3623 - acc: 0.8501\n",
      "Epoch 7/50\n",
      "2754/2754 [==============================] - 0s 32us/step - loss: 0.3407 - acc: 0.8619\n",
      "Epoch 8/50\n",
      "2754/2754 [==============================] - 0s 36us/step - loss: 0.3212 - acc: 0.8734\n",
      "Epoch 9/50\n",
      "2754/2754 [==============================] - 0s 37us/step - loss: 0.3027 - acc: 0.8810\n",
      "Epoch 10/50\n",
      "2754/2754 [==============================] - 0s 33us/step - loss: 0.2852 - acc: 0.8897\n",
      "Epoch 11/50\n",
      "2754/2754 [==============================] - 0s 35us/step - loss: 0.2685 - acc: 0.8964\n",
      "Epoch 12/50\n",
      "2754/2754 [==============================] - 0s 36us/step - loss: 0.2526 - acc: 0.9069\n",
      "Epoch 13/50\n",
      "2754/2754 [==============================] - 0s 36us/step - loss: 0.2377 - acc: 0.9132\n",
      "Epoch 14/50\n",
      "2754/2754 [==============================] - 0s 36us/step - loss: 0.2232 - acc: 0.9208\n",
      "Epoch 15/50\n",
      "2754/2754 [==============================] - 0s 36us/step - loss: 0.2102 - acc: 0.9264\n",
      "Epoch 16/50\n",
      "2754/2754 [==============================] - 0s 35us/step - loss: 0.1978 - acc: 0.9310\n",
      "Epoch 17/50\n",
      "2754/2754 [==============================] - 0s 36us/step - loss: 0.1861 - acc: 0.9369\n",
      "Epoch 18/50\n",
      "2754/2754 [==============================] - 0s 36us/step - loss: 0.1758 - acc: 0.9418\n",
      "Epoch 19/50\n",
      "2754/2754 [==============================] - 0s 32us/step - loss: 0.1660 - acc: 0.9460\n",
      "Epoch 20/50\n",
      "2754/2754 [==============================] - 0s 33us/step - loss: 0.1567 - acc: 0.9501\n",
      "Epoch 21/50\n",
      "2754/2754 [==============================] - 0s 36us/step - loss: 0.1481 - acc: 0.9538\n",
      "Epoch 22/50\n",
      "2754/2754 [==============================] - 0s 37us/step - loss: 0.1402 - acc: 0.9571\n",
      "Epoch 23/50\n",
      "2754/2754 [==============================] - 0s 40us/step - loss: 0.1326 - acc: 0.9606\n",
      "Epoch 24/50\n",
      "2754/2754 [==============================] - 0s 37us/step - loss: 0.1256 - acc: 0.9634\n",
      "Epoch 25/50\n",
      "2754/2754 [==============================] - 0s 33us/step - loss: 0.1191 - acc: 0.9663\n",
      "Epoch 26/50\n",
      "2754/2754 [==============================] - 0s 35us/step - loss: 0.1128 - acc: 0.9690\n",
      "Epoch 27/50\n",
      "2754/2754 [==============================] - 0s 58us/step - loss: 0.1073 - acc: 0.9716\n",
      "Epoch 28/50\n",
      "2754/2754 [==============================] - 0s 36us/step - loss: 0.1021 - acc: 0.9739\n",
      "Epoch 29/50\n",
      "2754/2754 [==============================] - 0s 38us/step - loss: 0.0970 - acc: 0.9752\n",
      "Epoch 30/50\n",
      "2754/2754 [==============================] - 0s 37us/step - loss: 0.0925 - acc: 0.9772\n",
      "Epoch 31/50\n",
      "2754/2754 [==============================] - 0s 37us/step - loss: 0.0882 - acc: 0.9772\n",
      "Epoch 32/50\n",
      "2754/2754 [==============================] - 0s 40us/step - loss: 0.0840 - acc: 0.9799\n",
      "Epoch 33/50\n",
      "2754/2754 [==============================] - 0s 53us/step - loss: 0.0803 - acc: 0.9806\n",
      "Epoch 34/50\n",
      "2754/2754 [==============================] - 0s 35us/step - loss: 0.0768 - acc: 0.9816\n",
      "Epoch 35/50\n",
      "2754/2754 [==============================] - 0s 34us/step - loss: 0.0734 - acc: 0.9826\n",
      "Epoch 36/50\n",
      "2754/2754 [==============================] - 0s 39us/step - loss: 0.0700 - acc: 0.9831\n",
      "Epoch 37/50\n",
      "2754/2754 [==============================] - 0s 56us/step - loss: 0.0673 - acc: 0.9845\n",
      "Epoch 38/50\n",
      "2754/2754 [==============================] - 0s 40us/step - loss: 0.0646 - acc: 0.9841\n",
      "Epoch 39/50\n",
      "2754/2754 [==============================] - 0s 38us/step - loss: 0.0621 - acc: 0.9855\n",
      "Epoch 40/50\n",
      "2754/2754 [==============================] - 0s 36us/step - loss: 0.0595 - acc: 0.9860\n",
      "Epoch 41/50\n",
      "2754/2754 [==============================] - 0s 39us/step - loss: 0.0574 - acc: 0.9860\n",
      "Epoch 42/50\n",
      "2754/2754 [==============================] - 0s 35us/step - loss: 0.0551 - acc: 0.9867\n",
      "Epoch 43/50\n",
      "2754/2754 [==============================] - 0s 38us/step - loss: 0.0530 - acc: 0.9871\n",
      "Epoch 44/50\n",
      "2754/2754 [==============================] - 0s 41us/step - loss: 0.0515 - acc: 0.9877\n",
      "Epoch 45/50\n",
      "2754/2754 [==============================] - 0s 36us/step - loss: 0.0495 - acc: 0.9885\n",
      "Epoch 46/50\n",
      "2754/2754 [==============================] - 0s 39us/step - loss: 0.0477 - acc: 0.9887\n",
      "Epoch 47/50\n",
      "2754/2754 [==============================] - 0s 34us/step - loss: 0.0464 - acc: 0.9887\n",
      "Epoch 48/50\n",
      "2754/2754 [==============================] - 0s 41us/step - loss: 0.0446 - acc: 0.9887\n",
      "Epoch 49/50\n",
      "2754/2754 [==============================] - 0s 36us/step - loss: 0.0432 - acc: 0.9895\n",
      "Epoch 50/50\n",
      "2754/2754 [==============================] - 0s 40us/step - loss: 0.0421 - acc: 0.9890\n"
     ]
    },
    {
     "data": {
      "text/plain": [
       "<keras.callbacks.History at 0x7fa44d708588>"
      ]
     },
     "execution_count": 13,
     "metadata": {},
     "output_type": "execute_result"
    }
   ],
   "source": [
    "from keras.models import Sequential\n",
    "from keras.layers import Dense, Flatten\n",
    "from keras.layers.embeddings import Embedding\n",
    "\n",
    "# define the model\n",
    "model = Sequential()\n",
    "model.add(Embedding(input_dim=estimated_vocab_size, output_dim=8, input_length=maxlength))\n",
    "model.add(Flatten())\n",
    "model.add(Dense(4, activation='sigmoid'))\n",
    "\n",
    "# compile the model\n",
    "\n",
    "model.compile(optimizer='adam', loss='binary_crossentropy', metrics=['acc'])\n",
    "# print(model.summary())\n",
    "batch = 100\n",
    "model.fit(X_train, Y_train, epochs=50, verbose=1)"
   ]
  },
  {
   "cell_type": "code",
   "execution_count": 14,
   "metadata": {},
   "outputs": [
    {
     "name": "stdout",
     "output_type": "stream",
     "text": [
      "2754/2754 [==============================] - 0s 47us/step\n",
      "0.9904684095860566\n"
     ]
    }
   ],
   "source": [
    "# loss, accuracy = model.evaluate(X_test, Y_test, verbose=0)\n",
    "loss, accuracy = model.evaluate(X_train, Y_train)\n",
    "print(accuracy)"
   ]
  },
  {
   "cell_type": "code",
   "execution_count": 20,
   "metadata": {},
   "outputs": [
    {
     "name": "stdout",
     "output_type": "stream",
     "text": [
      "<class 'numpy.ndarray'>\n",
      "[[1639 1579 1582 1304  802  470  230 1316 1799    0    0    0    0    0\n",
      "     0    0    0    0    0    0    0    0    0    0    0    0    0    0\n",
      "     0    0    0    0    0    0    0    0    0    0    0    0    0    0\n",
      "     0    0    0    0    0    0    0    0    0    0    0    0    0    0\n",
      "     0    0    0    0    0    0]]\n"
     ]
    },
    {
     "data": {
      "text/plain": [
       "('neg', 0.98400843)"
      ]
     },
     "execution_count": 20,
     "metadata": {},
     "output_type": "execute_result"
    }
   ],
   "source": [
    "test = \"Macron sous merde de mes boules suce ma France\"\n",
    "test_oh = [one_hot(test, estimated_vocab_size)]\n",
    "test_oh = pad_sequences(test_oh, maxlen=maxlength, padding='post')\n",
    "print(type(test_oh))\n",
    "print(test_oh)\n",
    "out = list(model.predict(test_oh)[0])\n",
    "decode_output(out)\n",
    "# print(\"tweet is evaluated \" + out[0] + \" at \" + str(out[1]) + \"%\")"
   ]
  },
  {
   "cell_type": "code",
   "execution_count": null,
   "metadata": {},
   "outputs": [],
   "source": []
  }
 ],
 "metadata": {
  "kernelspec": {
   "display_name": "env",
   "language": "python",
   "name": "env"
  },
  "language_info": {
   "codemirror_mode": {
    "name": "ipython",
    "version": 3
   },
   "file_extension": ".py",
   "mimetype": "text/x-python",
   "name": "python",
   "nbconvert_exporter": "python",
   "pygments_lexer": "ipython3",
   "version": "3.6.7"
  }
 },
 "nbformat": 4,
 "nbformat_minor": 2
}
