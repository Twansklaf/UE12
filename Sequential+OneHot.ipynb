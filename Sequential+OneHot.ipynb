{
 "cells": [
  {
   "cell_type": "markdown",
   "metadata": {},
   "source": [
    "### Test ML Embeddings"
   ]
  },
  {
   "cell_type": "code",
   "execution_count": 1,
   "metadata": {},
   "outputs": [
    {
     "name": "stdout",
     "output_type": "stream",
     "text": [
      "size of train data :  3309\n"
     ]
    },
    {
     "name": "stderr",
     "output_type": "stream",
     "text": [
      "Using TensorFlow backend.\n"
     ]
    }
   ],
   "source": [
    "from parse import get_data\n",
    "import pandas as pd\n",
    "import numpy as np\n",
    "\n",
    "########################### EXTRACT DATA\n",
    "\n",
    "def convert_labels(l) :\n",
    "    if l == 'irr' :\n",
    "        return [1, 0, 0, 0]\n",
    "    elif l == 'neg' :\n",
    "        return [0, 1, 0, 0]\n",
    "    elif l == 'neu' :\n",
    "        return [0, 0, 1, 0]\n",
    "    else :\n",
    "        return [0, 0, 0, 1]\n",
    "    \n",
    "def decode_output(out_array) :\n",
    "    if out_array[0] == np.max(out_array) :\n",
    "        return \"irr\", np.max(out_array)\n",
    "    elif out_array[1] == np.max(out_array) :\n",
    "        return \"neg\", np.max(out_array)\n",
    "    elif out_array[2] == np.max(out_array) :\n",
    "        return \"neu\",np.max(out_array)\n",
    "    elif out_array[3] == np.max(out_array) :\n",
    "        return \"pos\",np.max(out_array)\n",
    "    else :\n",
    "        return \"err\",0\n",
    "\n",
    "text, label = get_data(\"corpus_ready.data\")\n",
    "labels = [\"irr\", \"neg\", \"neu\", \"pos\"]\n",
    "label_data = np.array([convert_labels(l) for l in label])\n",
    "print(\"size of train data : \", len(text))\n",
    "\n",
    "######################### VECTORIZE DATA\n",
    "\n",
    "from keras.preprocessing.text import one_hot\n",
    "from keras.preprocessing.sequence import pad_sequences\n",
    "from functools import reduce\n",
    "\n",
    "estimated_vocab_size = 2000\n",
    "encoded = [one_hot(t, estimated_vocab_size) for t in text]\n",
    "maxlength = np.max([len(x) for x in encoded])\n",
    "encoded = pad_sequences(encoded, maxlen=maxlength, padding='post')"
   ]
  },
  {
   "cell_type": "code",
   "execution_count": 5,
   "metadata": {},
   "outputs": [],
   "source": [
    "percentage_train = 0.8\n",
    "borne = int(percentage_train*len(text))\n",
    "X_train = encoded[:borne]\n",
    "Y_train = label_data[:borne]\n",
    "X_test = encoded[borne:]\n",
    "Y_test = label_data[borne:]"
   ]
  },
  {
   "cell_type": "code",
   "execution_count": 6,
   "metadata": {},
   "outputs": [
    {
     "name": "stdout",
     "output_type": "stream",
     "text": [
      "Epoch 1/50\n",
      "2647/2647 [==============================] - 0s 73us/step - loss: 0.5485 - acc: 0.7710\n",
      "Epoch 2/50\n",
      "2647/2647 [==============================] - 0s 35us/step - loss: 0.4499 - acc: 0.7900\n",
      "Epoch 3/50\n",
      "2647/2647 [==============================] - 0s 32us/step - loss: 0.4275 - acc: 0.8092\n",
      "Epoch 4/50\n",
      "2647/2647 [==============================] - 0s 40us/step - loss: 0.4013 - acc: 0.8289\n",
      "Epoch 5/50\n",
      "2647/2647 [==============================] - 0s 35us/step - loss: 0.3759 - acc: 0.8436\n",
      "Epoch 6/50\n",
      "2647/2647 [==============================] - 0s 38us/step - loss: 0.3532 - acc: 0.8566\n",
      "Epoch 7/50\n",
      "2647/2647 [==============================] - 0s 64us/step - loss: 0.3338 - acc: 0.8687\n",
      "Epoch 8/50\n",
      "2647/2647 [==============================] - 0s 80us/step - loss: 0.3155 - acc: 0.8786\n",
      "Epoch 9/50\n",
      "2647/2647 [==============================] - 0s 34us/step - loss: 0.2979 - acc: 0.8872\n",
      "Epoch 10/50\n",
      "2647/2647 [==============================] - 0s 36us/step - loss: 0.2813 - acc: 0.8916\n",
      "Epoch 11/50\n",
      "2647/2647 [==============================] - 0s 36us/step - loss: 0.2649 - acc: 0.9015\n",
      "Epoch 12/50\n",
      "2647/2647 [==============================] - 0s 37us/step - loss: 0.2493 - acc: 0.9070\n",
      "Epoch 13/50\n",
      "2647/2647 [==============================] - 0s 38us/step - loss: 0.2343 - acc: 0.9151\n",
      "Epoch 14/50\n",
      "2647/2647 [==============================] - 0s 33us/step - loss: 0.2200 - acc: 0.9211\n",
      "Epoch 15/50\n",
      "2647/2647 [==============================] - 0s 32us/step - loss: 0.2067 - acc: 0.9287\n",
      "Epoch 16/50\n",
      "2647/2647 [==============================] - 0s 37us/step - loss: 0.1940 - acc: 0.9341\n",
      "Epoch 17/50\n",
      "2647/2647 [==============================] - 0s 35us/step - loss: 0.1826 - acc: 0.9401\n",
      "Epoch 18/50\n",
      "2647/2647 [==============================] - 0s 32us/step - loss: 0.1712 - acc: 0.9429\n",
      "Epoch 19/50\n",
      "2647/2647 [==============================] - 0s 34us/step - loss: 0.1612 - acc: 0.9479\n",
      "Epoch 20/50\n",
      "2647/2647 [==============================] - 0s 35us/step - loss: 0.1514 - acc: 0.9525\n",
      "Epoch 21/50\n",
      "2647/2647 [==============================] - 0s 34us/step - loss: 0.1426 - acc: 0.9557\n",
      "Epoch 22/50\n",
      "2647/2647 [==============================] - 0s 37us/step - loss: 0.1343 - acc: 0.9592\n",
      "Epoch 23/50\n",
      "2647/2647 [==============================] - 0s 34us/step - loss: 0.1267 - acc: 0.9620\n",
      "Epoch 24/50\n",
      "2647/2647 [==============================] - 0s 33us/step - loss: 0.1196 - acc: 0.9662\n",
      "Epoch 25/50\n",
      "2647/2647 [==============================] - 0s 34us/step - loss: 0.1128 - acc: 0.9680\n",
      "Epoch 26/50\n",
      "2647/2647 [==============================] - 0s 37us/step - loss: 0.1067 - acc: 0.9708\n",
      "Epoch 27/50\n",
      "2647/2647 [==============================] - 0s 33us/step - loss: 0.1010 - acc: 0.9735\n",
      "Epoch 28/50\n",
      "2647/2647 [==============================] - 0s 34us/step - loss: 0.0958 - acc: 0.9751\n",
      "Epoch 29/50\n",
      "2647/2647 [==============================] - 0s 35us/step - loss: 0.0910 - acc: 0.9764\n",
      "Epoch 30/50\n",
      "2647/2647 [==============================] - 0s 36us/step - loss: 0.0864 - acc: 0.9777\n",
      "Epoch 31/50\n",
      "2647/2647 [==============================] - 0s 32us/step - loss: 0.0822 - acc: 0.9796\n",
      "Epoch 32/50\n",
      "2647/2647 [==============================] - 0s 32us/step - loss: 0.0780 - acc: 0.9806\n",
      "Epoch 33/50\n",
      "2647/2647 [==============================] - 0s 36us/step - loss: 0.0744 - acc: 0.9811\n",
      "Epoch 34/50\n",
      "2647/2647 [==============================] - 0s 37us/step - loss: 0.0709 - acc: 0.9821\n",
      "Epoch 35/50\n",
      "2647/2647 [==============================] - 0s 32us/step - loss: 0.0678 - acc: 0.9835\n",
      "Epoch 36/50\n",
      "2647/2647 [==============================] - 0s 38us/step - loss: 0.0648 - acc: 0.9840\n",
      "Epoch 37/50\n",
      "2647/2647 [==============================] - 0s 37us/step - loss: 0.0622 - acc: 0.9845\n",
      "Epoch 38/50\n",
      "2647/2647 [==============================] - 0s 38us/step - loss: 0.0593 - acc: 0.9850\n",
      "Epoch 39/50\n",
      "2647/2647 [==============================] - 0s 37us/step - loss: 0.0569 - acc: 0.9855\n",
      "Epoch 40/50\n",
      "2647/2647 [==============================] - 0s 39us/step - loss: 0.0547 - acc: 0.9867\n",
      "Epoch 41/50\n",
      "2647/2647 [==============================] - 0s 37us/step - loss: 0.0524 - acc: 0.9867\n",
      "Epoch 42/50\n",
      "2647/2647 [==============================] - 0s 37us/step - loss: 0.0506 - acc: 0.9867\n",
      "Epoch 43/50\n",
      "2647/2647 [==============================] - 0s 33us/step - loss: 0.0487 - acc: 0.9883\n",
      "Epoch 44/50\n",
      "2647/2647 [==============================] - 0s 37us/step - loss: 0.0469 - acc: 0.9889\n",
      "Epoch 45/50\n",
      "2647/2647 [==============================] - 0s 37us/step - loss: 0.0453 - acc: 0.9882\n",
      "Epoch 46/50\n",
      "2647/2647 [==============================] - 0s 32us/step - loss: 0.0436 - acc: 0.9889\n",
      "Epoch 47/50\n",
      "2647/2647 [==============================] - 0s 36us/step - loss: 0.0420 - acc: 0.9894\n",
      "Epoch 48/50\n",
      "2647/2647 [==============================] - 0s 37us/step - loss: 0.0408 - acc: 0.9897\n",
      "Epoch 49/50\n",
      "2647/2647 [==============================] - 0s 37us/step - loss: 0.0394 - acc: 0.9899\n",
      "Epoch 50/50\n",
      "2647/2647 [==============================] - 0s 33us/step - loss: 0.0380 - acc: 0.9899\n"
     ]
    },
    {
     "data": {
      "text/plain": [
       "<keras.callbacks.History at 0x7f9be0106898>"
      ]
     },
     "execution_count": 6,
     "metadata": {},
     "output_type": "execute_result"
    }
   ],
   "source": [
    "from keras.models import Sequential\n",
    "from keras.layers import Dense, Flatten\n",
    "from keras.layers.embeddings import Embedding\n",
    "\n",
    "# define the model\n",
    "model = Sequential()\n",
    "model.add(Embedding(input_dim=estimated_vocab_size, output_dim=8, input_length=maxlength))\n",
    "model.add(Flatten())\n",
    "model.add(Dense(4, activation='sigmoid'))\n",
    "\n",
    "# compile the model\n",
    "\n",
    "model.compile(optimizer='adam', loss='binary_crossentropy', metrics=['acc'])\n",
    "# print(model.summary())\n",
    "batch = 100\n",
    "model.fit(X_train, Y_train, epochs=50, verbose=1)"
   ]
  },
  {
   "cell_type": "code",
   "execution_count": 7,
   "metadata": {},
   "outputs": [
    {
     "name": "stdout",
     "output_type": "stream",
     "text": [
      "0.7571752269462516\n"
     ]
    }
   ],
   "source": [
    "loss, accuracy = model.evaluate(X_test, Y_test, verbose=0)\n",
    "# loss, accuracy = model.evaluate(X_train, Y_train)\n",
    "print(accuracy)"
   ]
  },
  {
   "cell_type": "code",
   "execution_count": 10,
   "metadata": {},
   "outputs": [
    {
     "name": "stdout",
     "output_type": "stream",
     "text": [
      "<class 'numpy.ndarray'>\n",
      "[[1547  558  681 1873  558 1827    0    0    0    0    0    0    0    0\n",
      "     0    0    0    0    0    0    0    0    0    0    0    0    0    0\n",
      "     0    0    0    0    0    0    0    0    0    0    0    0    0    0\n",
      "     0    0    0    0    0    0    0    0    0    0    0    0    0    0\n",
      "     0    0    0    0    0    0]]\n"
     ]
    },
    {
     "data": {
      "text/plain": [
       "('neu', 0.48220602)"
      ]
     },
     "execution_count": 10,
     "metadata": {},
     "output_type": "execute_result"
    }
   ],
   "source": [
    "test = \"J'aime la glace à la banane\"\n",
    "test_oh = [one_hot(test, estimated_vocab_size)]\n",
    "test_oh = pad_sequences(test_oh, maxlen=maxlength, padding='post')\n",
    "print(type(test_oh))\n",
    "print(test_oh)\n",
    "out = list(model.predict(test_oh)[0])\n",
    "decode_output(out)\n",
    "# print(\"tweet is evaluated \" + out[0] + \" at \" + str(out[1]) + \"%\")"
   ]
  },
  {
   "cell_type": "code",
   "execution_count": null,
   "metadata": {},
   "outputs": [],
   "source": []
  }
 ],
 "metadata": {
  "kernelspec": {
   "display_name": "env",
   "language": "python",
   "name": "env"
  },
  "language_info": {
   "codemirror_mode": {
    "name": "ipython",
    "version": 3
   },
   "file_extension": ".py",
   "mimetype": "text/x-python",
   "name": "python",
   "nbconvert_exporter": "python",
   "pygments_lexer": "ipython3",
   "version": "3.6.7"
  }
 },
 "nbformat": 4,
 "nbformat_minor": 2
}
